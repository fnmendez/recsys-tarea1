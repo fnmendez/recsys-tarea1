{
 "cells": [
  {
   "cell_type": "markdown",
   "metadata": {
    "colab_type": "text",
    "id": "view-in-github"
   },
   "source": [
    "<a href=\"https://colab.research.google.com/github/Hernan4444/diplomado-sistemas-recomendadores/blob/master/Diplomado_Alumno_2019_Sistemas_Recomendadores_3_Content_Based.ipynb\" target=\"_parent\"><img src=\"https://colab.research.google.com/assets/colab-badge.svg\" alt=\"Open In Colab\"/></a>"
   ]
  },
  {
   "cell_type": "markdown",
   "metadata": {
    "colab_type": "text",
    "id": "NC-ceGb8LRLT"
   },
   "source": [
    "# TAREA 1: SISTEMAS RECOMENDADORES"
   ]
  },
  {
   "cell_type": "markdown",
   "metadata": {
    "colab_type": "text",
    "id": "mACJbcW8T35p"
   },
   "source": [
    "**Integrantes**: Martin Alamos, Franco Mendez"
   ]
  },
  {
   "cell_type": "markdown",
   "metadata": {
    "colab_type": "text",
    "id": "uKAqmo5IdQFI"
   },
   "source": [
    "# Pregunta 1\n",
    "\n",
    "Grafique la distribución de usuarios con número de interacciones, identifique los 5 usuarios más\n",
    "activos en el dataset de WikiMedia Commons. Comente la forma de la distribución y qué por-\n",
    "centaje de las interacciones han sido hechas por estos 5 usuarios.\n"
   ]
  },
  {
   "cell_type": "markdown",
   "metadata": {
    "colab_type": "text",
    "id": "VvDxjWvUdcv8"
   },
   "source": []
  },
  {
   "cell_type": "code",
   "execution_count": 7,
   "metadata": {},
   "outputs": [],
   "source": [
    "import pandas as pd\n",
    "import numpy as np\n",
    "import pyreclab\n",
    "import matplotlib.pyplot as plt\n",
    "import scipy.sparse as sparse\n",
    "import math"
   ]
  },
  {
   "cell_type": "code",
   "execution_count": 1,
   "metadata": {
    "colab_type": "text",
    "id": "IFpEoacrMwQx"
   },
   "outputs": [],
   "source": [
    "views = {} # user : numer_of_interactions\n",
    "image_views = {} # image: number_of_interactions\n",
    "\n",
    "fo = open(\"files/training.csv\", \"r\")\n",
    "fo.readline()\n",
    "for line in fo.readlines():\n",
    "    user, image, time = line.rstrip().split(\",\")\n",
    "    if user in views:\n",
    "        views[user] += 1\n",
    "    else:\n",
    "        views[user] = 1\n",
    "\n",
    "    if image in image_views:\n",
    "        image_views[image] +=1\n",
    "    else:\n",
    "        image_views[image] = 1\n",
    "fo.close()"
   ]
  },
  {
   "cell_type": "markdown",
   "metadata": {},
   "source": [
    "Hacemos los correspondinetes diccionarios con numero de iteraciones"
   ]
  },
  {
   "cell_type": "code",
   "execution_count": 3,
   "metadata": {
    "colab": {},
    "colab_type": "code",
    "id": "sUlFGZprHneQ"
   },
   "outputs": [],
   "source": [
    "user_interaction = {} # number_of_interactions : amount_of_users\n",
    "for user in views:\n",
    "    if views[user] in user_interaction:\n",
    "        user_interaction[views[user]] += 1\n",
    "    else:\n",
    "        user_interaction[views[user]] = 1\n",
    "\n",
    "image_interaction = {} # number_of_interactions : amount_of_images\n",
    "for image in image_views:\n",
    "    if image_views[image] in image_interaction:\n",
    "        image_interaction[image_views[image]] += 1\n",
    "    else:\n",
    "        image_interaction[image_views[image]] = 1"
   ]
  },
  {
   "cell_type": "markdown",
   "metadata": {},
   "source": [
    "Tomamos el top 5"
   ]
  },
  {
   "cell_type": "code",
   "execution_count": 10,
   "metadata": {
    "colab": {},
    "colab_type": "code",
    "id": "BN0P2xxrH0z8"
   },
   "outputs": [
    {
     "name": "stdout",
     "output_type": "stream",
     "text": [
      "users ['2524', '4605', '2133', '5907', '5607']\n",
      "image ['201707149', '201812099', '201804142', '201901175', '201204203']\n"
     ]
    }
   ],
   "source": [
    "# get top\n",
    "top_five_users = [] # user1, user2, ...\n",
    "counter = 0\n",
    "for key, value in sorted(views.items(), key=lambda kv: kv[1], reverse=True):\n",
    "    top_five_users.append(key)\n",
    "    counter += 1\n",
    "    if counter > 4: break\n",
    "\n",
    "top_five_image = [] # user1, user2, ...\n",
    "counter = 0\n",
    "for key, value in sorted(image_views.items(), key=lambda kv: kv[1], reverse=True):\n",
    "    top_five_image.append(key)\n",
    "    counter += 1\n",
    "    if counter > 4: break\n",
    "# finish get top 5\n",
    "print(\"users\", top_five_users)\n",
    "print(\"image\", top_five_image)"
   ]
  },
  {
   "cell_type": "code",
   "execution_count": 8,
   "metadata": {},
   "outputs": [
    {
     "name": "stdout",
     "output_type": "stream",
     "text": [
      "stats:\n",
      "number of users: 1079\n",
      "number of images: 9630\n",
      "mean_image_per_user: 89.41612604263207\n",
      "de_image_per_user: 260.53834648700354\n",
      "mean_user_per_image: 10.018691588785046\n",
      "de_user_per_image: 4.35659507116784\n",
      "density: 0.009285163659671036\n",
      "sparsity: 0.990714836340329\n"
     ]
    }
   ],
   "source": [
    "total_number_of_interactions = sum(views[u] for u in views)\n",
    "number_of_different_users = len(views)\n",
    "number_of_different_images = len(image_views)\n",
    "mean_image_per_user = sum(views[u] for u in views) / number_of_different_users\n",
    "de_image_per_user = math.sqrt((sum((views[u] - mean_image_per_user)**2 for u in views))/number_of_different_users)\n",
    "mean_user_per_image = sum(image_views[i] for i in image_views) / number_of_different_images\n",
    "de_user_per_image = math.sqrt((sum((image_views[i] - mean_user_per_image)**2 for i in image_views))/number_of_different_images)\n",
    "density = total_number_of_interactions / (number_of_different_users * number_of_different_images)\n",
    "sparsity = 1 - density\n",
    "\n",
    "print(\"stats:\")\n",
    "print(\"number of users:\", number_of_different_users)\n",
    "print(\"number of images:\", number_of_different_images)\n",
    "print(\"mean_image_per_user:\", mean_image_per_user)\n",
    "print(\"de_image_per_user:\", de_image_per_user)\n",
    "print(\"mean_user_per_image:\", mean_user_per_image)\n",
    "print(\"de_user_per_image:\", de_user_per_image)\n",
    "print(\"density:\", density)\n",
    "print(\"sparsity:\", sparsity)"
   ]
  },
  {
   "cell_type": "markdown",
   "metadata": {},
   "source": [
    "Actualizamos datos para ser graficados"
   ]
  },
  {
   "cell_type": "code",
   "execution_count": 12,
   "metadata": {},
   "outputs": [],
   "source": [
    "# lets graph!\n",
    "user_graph_data = [] # (number_of_interactions, number_of_users rango de 3)\n",
    "for k in user_interaction:\n",
    "    user_graph_data.append((k, user_interaction[k]))\n",
    "user_graph_data = sorted(user_graph_data)\n",
    "\n",
    "image_graph_data = []\n",
    "for k in image_interaction:\n",
    "    image_graph_data.append((k, image_interaction[k]))\n",
    "image_graph_data = sorted(image_graph_data)\n",
    "\n",
    "# aca agrupamos la info para que no sea tan grande\n",
    "new_graph_data = [] # ('0-3', 74), ('4-7', 95)\n",
    "x_name = ''\n",
    "count = 0\n",
    "counter = 0\n",
    "for x, y in user_graph_data:\n",
    "    counter += y\n",
    "    if count == 0:\n",
    "        x_name = str(x) + '-'\n",
    "    if count == 3:\n",
    "        x_name += str(x)\n",
    "        new_graph_data.append((x_name, counter))\n",
    "        count = -1\n",
    "        counter = 0\n",
    "    count += 1"
   ]
  },
  {
   "cell_type": "code",
   "execution_count": 14,
   "metadata": {},
   "outputs": [
    {
     "data": {
      "image/png": "[encoded data removed]",
      "text/plain": [
       "<Figure size 432x288 with 1 Axes>"
      ]
     },
     "metadata": {
      "needs_background": "light"
     },
     "output_type": "display_data"
    },
    {
     "data": {
      "image/png": "[encoded data removed]",
      "text/plain": [
       "<Figure size 432x288 with 1 Axes>"
      ]
     },
     "metadata": {
      "needs_background": "light"
     },
     "output_type": "display_data"
    },
    {
     "name": "stdout",
     "output_type": "stream",
     "text": [
      "los 5 usuarios mas activos son : ['2524', '4605', '2133', '5907', '5607']\n"
     ]
    }
   ],
   "source": [
    "plt.bar([i[0] for i in new_graph_data], [j[1] for j in new_graph_data])\n",
    "plt.xlabel('Numero de interacciones', fontsize=15)\n",
    "plt.ylabel('Numero de usuarios', fontsize=15)\n",
    "plt.xticks([i[0] for i in new_graph_data], [i[0] for i in new_graph_data], rotation=70)\n",
    "plt.plot([i[0] for i in new_graph_data], [j[1] for j in new_graph_data], 'r-')\n",
    "plt.show()\n",
    "\n",
    "# simple graph\n",
    "plt.bar([i[0] for i in user_graph_data], [j[1] for j in user_graph_data])\n",
    "plt.xlabel('Numero de interacciones', fontsize=15)\n",
    "plt.ylabel('Numero de usuarios', fontsize=15)\n",
    "plt.plot([i[0] for i in user_graph_data], [j[1] for j in user_graph_data], 'r-')\n",
    "plt.show()"
   ]
  },
  {
   "cell_type": "markdown",
   "metadata": {
    "colab_type": "text",
    "id": "TJon9T5ZMwRG"
   },
   "source": [
    "# Revisar archivos descargados\n",
    "\n",
    "Revisemos el _dataset_ descargado:\n"
   ]
  },
  {
   "cell_type": "code",
   "execution_count": 0,
   "metadata": {
    "colab": {},
    "colab_type": "code",
    "id": "zT11_REYOyFO"
   },
   "outputs": [],
   "source": [
    "import pandas as pd\n",
    "\n",
    "corpus_df = pd.read_csv('./corpus1.csv', sep='\\t',\n",
    "                        header=None, encoding='latin',\n",
    "                        names=['id', 'title', 'abstract'])\n",
    "corpus_df.head(5)"
   ]
  },
  {
   "cell_type": "markdown",
   "metadata": {
    "colab_type": "text",
    "id": "pSGsVQkyQoVi"
   },
   "source": [
    "Podemos ver que este _dataet: contiene 3 columnas:\n",
    "* **_id_**: identificador de cada texto\n",
    "* **_title_**: título del documento, en este caso, de un _paper_\n",
    "* **_abstract_**: primer párafo del _paper_ que es una representación abreviada, objetiva y precisa del contenido de un documento o recurso, sin interpretación crítica y sin mención expresa del autor del resumen."
   ]
  },
  {
   "cell_type": "markdown",
   "metadata": {
    "colab_type": "text",
    "id": "7HU7NoDUhnYl"
   },
   "source": [
    "## Preparar entorno\n",
    "Primero es necesario instalar algunas librerías previas"
   ]
  },
  {
   "cell_type": "code",
   "execution_count": 0,
   "metadata": {
    "colab": {},
    "colab_type": "code",
    "id": "rtscg3KuMwRL"
   },
   "outputs": [],
   "source": [
    "!pip install nltk\n",
    "!pip install sklearn\n",
    "!pip install gensim\n",
    "!pip install pandas\n",
    "!pip install numpy"
   ]
  },
  {
   "cell_type": "markdown",
   "metadata": {
    "colab_type": "text",
    "id": "qrZhH8Kqtx7_"
   },
   "source": [
    "Luego necesitamos importar las librerías a utilizar en este práctico. No se asusten por todas las librerías, iremos explicando lo más importante a medida que se avanza en el práctico."
   ]
  },
  {
   "cell_type": "code",
   "execution_count": 0,
   "metadata": {
    "colab": {},
    "colab_type": "code",
    "id": "3Ii2pB-LO0Xy"
   },
   "outputs": [],
   "source": [
    "import string\n",
    "\n",
    "import gensim\n",
    "import nltk\n",
    "import numpy as np\n",
    "import pandas as pd\n",
    "import sklearn\n",
    "\n",
    "from collections import Counter\n",
    "from os.path import isfile\n",
    "from textwrap import wrap\n",
    "\n",
    "from gensim import corpora, models, similarities\n",
    "from nltk.corpus import stopwords\n",
    "from nltk.stem.porter import PorterStemmer\n",
    "from scipy.sparse import csr_matrix\n",
    "from sklearn.neighbors import NearestNeighbors\n",
    "from sklearn.feature_extraction.text import TfidfVectorizer\n",
    "from sklearn.decomposition import NMF\n",
    "\n",
    "import json\n",
    "import warnings\n",
    "import gensim \n",
    "warnings.filterwarnings(\"ignore\")\n",
    "pd.options.display.max_columns = None\n",
    "\n"
   ]
  },
  {
   "cell_type": "markdown",
   "metadata": {
    "colab_type": "text",
    "id": "PUYnjZ1yOY-A"
   },
   "source": [
    "## Preprocesamiento de datos"
   ]
  },
  {
   "cell_type": "markdown",
   "metadata": {
    "colab_type": "text",
    "id": "Eo0B-gBrR9Sf"
   },
   "source": [
    "Volvemos a cargar el _dataset_ a utilizar"
   ]
  },
  {
   "cell_type": "code",
   "execution_count": 0,
   "metadata": {
    "colab": {},
    "colab_type": "code",
    "id": "bONZGsYBR_rn"
   },
   "outputs": [],
   "source": [
    "corpus_df = pd.read_csv('./corpus1.csv', sep='\\t',\n",
    "                        header=None, encoding='latin',\n",
    "                        names=['id', 'title', 'abstract'])\n",
    "corpus_df.head(5)"
   ]
  },
  {
   "cell_type": "markdown",
   "metadata": {
    "colab_type": "text",
    "id": "me-LXrP2Ocjc"
   },
   "source": [
    "Luego descargamos las librerías de NLTK necesarias:"
   ]
  },
  {
   "cell_type": "code",
   "execution_count": 0,
   "metadata": {
    "colab": {},
    "colab_type": "code",
    "id": "1Ru8N7mZ9exU"
   },
   "outputs": [],
   "source": [
    "nltk.download('punkt')"
   ]
  },
  {
   "cell_type": "markdown",
   "metadata": {
    "colab_type": "text",
    "id": "bUTeZc5jSoIG"
   },
   "source": [
    "En este momento estamos bajando un _tokenizador_ específico llamado [Punkt Sentence Tokenizer](https://kite.com/python/docs/nltk.tokenize.punkt). Este será usado a continuación para realizar una cierta tarea con los textos (no vamos a decir cual es porque una actividad es que comenten que hace dado unos ejemplos que mostramos c: ). \n",
    "\n",
    "Lo siguiente es implementar una función que transforme texto no estructurado a una lista de *tokens* procesados."
   ]
  },
  {
   "cell_type": "code",
   "execution_count": 0,
   "metadata": {
    "colab": {},
    "colab_type": "code",
    "id": "25JLYOGGSOck"
   },
   "outputs": [],
   "source": [
    "def get_tokens(text):\n",
    "    # Pasar todo a minuscula\n",
    "    lowers = text.lower()\n",
    "    \n",
    "    # Quitar puntuación\n",
    "    no_punctuation = lowers.translate({ord(c): None for c in string.punctuation})\n",
    "    \n",
    "    # Tokenizar \n",
    "    tokens = nltk.word_tokenize(no_punctuation)\n",
    "    \n",
    "    # Retornar resultado\n",
    "    return tokens\n",
    "\n",
    "\n",
    "print(get_tokens(\"I'm a super student for recommender systems!\"))\n",
    "print(get_tokens(\"First sentence. Seconde sentence.\"))"
   ]
  },
  {
   "cell_type": "markdown",
   "metadata": {
    "colab_type": "text",
    "id": "ckrxbKlTUVJ8"
   },
   "source": [
    "En el código anterior, para ejecutar `nltk.word_tokenize()` era necesario tener descargado _punkt_. \n",
    "\n",
    "## Actividad 2\n",
    "\n",
    "En función a las frases ingresadas y al resultado impreso, ¿Qué significa _Tokenizar_?"
   ]
  },
  {
   "cell_type": "markdown",
   "metadata": {
    "colab_type": "text",
    "id": "gpFOeSpET3BL"
   },
   "source": [
    "**Respuesta:** COMPLETAR"
   ]
  },
  {
   "cell_type": "code",
   "execution_count": 0,
   "metadata": {
    "colab": {},
    "colab_type": "code",
    "id": "gifqhG3_ZO0G"
   },
   "outputs": [],
   "source": [
    "# A cada abstract le aplicamos la función de get_tokens\n",
    "corpus_df['tokenized_abstract'] = corpus_df.abstract.map(get_tokens)\n",
    "corpus_df.head(5)"
   ]
  },
  {
   "cell_type": "markdown",
   "metadata": {
    "colab_type": "text",
    "id": "IkraQ1AwWT86"
   },
   "source": [
    "Ahora se tiene que generar un diccionario con todas las palabras del *corpus*. Se recomienda revisar la documentación de gensim y leer cómo usar los diccionarios: [corpora.dictionary](https://radimrehurek.com/gensim/corpora/dictionary.html)"
   ]
  },
  {
   "cell_type": "code",
   "execution_count": 0,
   "metadata": {
    "colab": {},
    "colab_type": "code",
    "id": "29j2p32oTTzP"
   },
   "outputs": [],
   "source": [
    "dict_file = './resources/dictionary.p'\n",
    "\n",
    "if isfile(dict_file): # Verificar si existe el archivo\n",
    "    dictionary = corpora.dictionary.Dictionary().load(dict_file)\n",
    "    \n",
    "else: # En otro caso, crear el archivo y guardarlo\n",
    "    dictionary = corpora.dictionary.Dictionary(documents=corpus_df.tokenised_abstract.tolist())\n",
    "    dictionary.save(dict_file)"
   ]
  },
  {
   "cell_type": "code",
   "execution_count": 0,
   "metadata": {
    "colab": {},
    "colab_type": "code",
    "id": "rEDzoAtbZdO1"
   },
   "outputs": [],
   "source": [
    "# Texto original\n",
    "print(\"Texto 1\")\n",
    "wrap(str(corpus_df.loc[0][\"tokenized_abstract\"]))\n"
   ]
  },
  {
   "cell_type": "code",
   "execution_count": 0,
   "metadata": {
    "colab": {},
    "colab_type": "code",
    "id": "gDJuYbHuY2rX"
   },
   "outputs": [],
   "source": [
    "# Texto pasado por el diccionario\n",
    "print(\"Texto 1\")\n",
    "wrap(str(dictionary.doc2bow(corpus_df.loc[0][\"tokenized_abstract\"])))\n"
   ]
  },
  {
   "cell_type": "markdown",
   "metadata": {
    "colab_type": "text",
    "id": "V1Tbu3OUZ_qo"
   },
   "source": [
    "Cuando se hizo `dictionary.doc2bow` se transformó una lista de palabas a un contador de ellas. En donde cada tupla representa `(ID, cantidad de veces)` de modo que se reduce la cantidad de palabras del texto a información numerica. \n",
    "\n",
    "Por ejemplo, la tupla `(30, 5)` indica que la palabra con ID 30 está 5 veces en el texto. Revisando el texto podemos ver que la palabra **\"a\"** es la que está repetida 5 veces. Esto implica que **\"a\"** está asignada al ID 30.\n",
    "\n",
    "Ahora aplicaremos esta función a cada texto del _dataset_."
   ]
  },
  {
   "cell_type": "code",
   "execution_count": 0,
   "metadata": {
    "colab": {},
    "colab_type": "code",
    "id": "vvEkoc9_ZsLy"
   },
   "outputs": [],
   "source": [
    "corpus_df['bow'] = corpus_df.tokenized_abstract.map(dictionary.doc2bow)\n",
    "\n",
    "corpus = corpus_df['bow'].tolist()\n",
    "\n",
    "corpus_df.head(5)"
   ]
  },
  {
   "cell_type": "markdown",
   "metadata": {
    "colab_type": "text",
    "id": "f23GriULTHgV"
   },
   "source": [
    "# Tf-idf"
   ]
  },
  {
   "cell_type": "markdown",
   "metadata": {
    "colab_type": "text",
    "id": "lQqcAAVrfwZw"
   },
   "source": [
    "Recordemos que Tf-idf es una medida numérica que expresa cuán relevante es una palabra para un documento en una colección. Ahora, dada la frecuencia de cada palabra en cada texto, se v a utilizar esta ténica para obtener tuplas de la forma `(ID, Tf-idf)` en donde ID será el ID de la palabra igual como estaba antes (por ejemplo **\"a\"** tiene ID 30) y Tf-Idf será el valor dado por este algoritmo a la palabra en cuestión."
   ]
  },
  {
   "cell_type": "code",
   "execution_count": 0,
   "metadata": {
    "colab": {},
    "colab_type": "code",
    "id": "C7ju5n3xTKtj"
   },
   "outputs": [],
   "source": [
    "tfidf_model_file = 'resources/tfidf_model.p'\n",
    "\n",
    "if isfile(tfidf_model_file):\n",
    "    tfidf_model = models.tfidfmodel.TfidfModel().load(tfidf_model_file)\n",
    "\n",
    "else:\n",
    "    tfidf_model = models.tfidfmodel.TfidfModel(corpus, dictionary=dictionary)\n",
    "    tfidf_model.save(tfidf_model_file)\n",
    "\n",
    "corpus_df['tf_idf'] = tfidf_model[corpus_df.bow.tolist()]\n",
    "corpus_df.head(5)"
   ]
  },
  {
   "cell_type": "markdown",
   "metadata": {
    "colab_type": "text",
    "id": "fU39mygGW8P9"
   },
   "source": [
    "## Generar recomendaciones: \n",
    "En esta sección se implementan las funciones necesarias para poder generar recomendaciones dado lo que un usuario ha consumido. De manera artificial, se \"samplearán\" 3 documentos aleatorios que representarán al usuario objetivo (`sample`). Luego tendrás que generar diferentes recomendaciones y evaluar los resultados."
   ]
  },
  {
   "cell_type": "code",
   "execution_count": 0,
   "metadata": {
    "colab": {},
    "colab_type": "code",
    "id": "xzolZRLmWnOX"
   },
   "outputs": [],
   "source": [
    "# Random users\n",
    "samples = corpus_df.sample(3)\n",
    "samples_ids = []\n",
    "\n",
    "for n, (ix, paper) in enumerate(samples.iterrows()):\n",
    "    samples_ids.append(ix)\n",
    "    idx, title, abstract, bow, tf_idf = paper[[\n",
    "        'id', 'title', 'abstract', 'bow', 'tf_idf']]\n",
    "    print('%d) %s' % (n+1, title))\n",
    "    print('')\n",
    "    print(\"\\n\".join(wrap(abstract)))\n",
    "    print('\\n')"
   ]
  },
  {
   "cell_type": "markdown",
   "metadata": {
    "colab_type": "text",
    "id": "VOgxiXx2XIkn"
   },
   "source": [
    "Lo anterior son 3 textos tomados al azar. Asumiremso que una persona vió estos 3 textos y ahora vamos a recomendarle 5 nuevos por cada documento."
   ]
  },
  {
   "cell_type": "code",
   "execution_count": 0,
   "metadata": {
    "colab": {},
    "colab_type": "code",
    "id": "Et3iltfFWnW8"
   },
   "outputs": [],
   "source": [
    "# Recommendation functions\n",
    "\n",
    "N = len(dictionary)\n",
    "\n",
    "\n",
    "def to_sparse(matrix):\n",
    "    return csr_matrix([\n",
    "        gensim.matutils.sparse2full(row, length=N)\n",
    "        for row in matrix\n",
    "    ])\n",
    "\n",
    "\n",
    "def make_recommendations(model, metric, neighbors):\n",
    "    M = len(corpus)\n",
    "\n",
    "    X = to_sparse(corpus_df[model].tolist())\n",
    "    document_index = NearestNeighbors(\n",
    "        n_neighbors=(neighbors + 1),\n",
    "        algorithm='brute',\n",
    "        metric=metric).fit(X)\n",
    "    return document_index\n",
    "\n",
    "\n",
    "def print_recommendations(indexes, model):\n",
    "    for n, (ix, paper) in enumerate(samples.iterrows()):\n",
    "        dists, neighbors = indexes.kneighbors([gensim.matutils.sparse2full(paper[model], length=N)])\n",
    "        print(paper['title'])\n",
    "        print('')\n",
    "        print('Documentos cercanos: ')\n",
    "        i = 1\n",
    "        for neighbour in neighbors[0]:\n",
    "            if ix != neighbour:\n",
    "                line = str(i) + \". \" + corpus_df.iloc[neighbour]['title']\n",
    "                print(line)\n",
    "                i += 1\n",
    "        print('\\n')"
   ]
  },
  {
   "cell_type": "markdown",
   "metadata": {
    "colab_type": "text",
    "id": "VmgISQfTXNXB"
   },
   "source": [
    "A continuación deberá utilizar las funciones implementadas anteriormente para generar nuevas recomendaciones variando los parámetros del modelo. **Agregue nuevas celdas para cada implementación y/o pregunta.**"
   ]
  },
  {
   "cell_type": "code",
   "execution_count": 0,
   "metadata": {
    "colab": {},
    "colab_type": "code",
    "id": "xI9OZ52IWndk"
   },
   "outputs": [],
   "source": [
    "# Recommendation example: TF-IDF\n",
    "doc_idx = make_recommendations('tf_idf', 'euclidean', 5)\n",
    "print_recommendations(doc_idx, 'tf_idf')"
   ]
  },
  {
   "cell_type": "markdown",
   "metadata": {
    "colab_type": "text",
    "id": "gfInn_xVSmZ6"
   },
   "source": [
    "# Stop words"
   ]
  },
  {
   "cell_type": "markdown",
   "metadata": {
    "colab_type": "text",
    "id": "1LgcEzIcxM4W"
   },
   "source": [
    "A continuación, intentaremos mejorar los resultados obtenidos con TF-IDF eliminando las *stopwords*. ¿Qué son las *stopwords*? Son palabras vacías, sin significado, que no aportan (de manera significativa) al sentido de una frase, como los artículos, pronombres, etc."
   ]
  },
  {
   "cell_type": "code",
   "execution_count": 0,
   "metadata": {
    "colab": {},
    "colab_type": "code",
    "id": "aNlhgqHaVZuE"
   },
   "outputs": [],
   "source": [
    "nltk.download('stopwords')"
   ]
  },
  {
   "cell_type": "code",
   "execution_count": 0,
   "metadata": {
    "colab": {},
    "colab_type": "code",
    "id": "mTKiDBwpoJ4A"
   },
   "outputs": [],
   "source": [
    "from nltk.corpus import stopwords\n",
    "\n",
    "def remove_stopwords(text):\n",
    "    filtered_words = [\n",
    "        word for word in text if word not in stopwords.words('english')\n",
    "    ]\n",
    "    return filtered_words"
   ]
  },
  {
   "cell_type": "markdown",
   "metadata": {
    "colab_type": "text",
    "id": "cQFhKTk1xM4p"
   },
   "source": [
    "Ahora eliminamos los stopwords de los textos y volvemos a hacer todo el proceso pero con textos diferentes. Este proceso dura aproximadamente **5 minutos**"
   ]
  },
  {
   "cell_type": "code",
   "execution_count": 0,
   "metadata": {
    "colab": {},
    "colab_type": "code",
    "id": "DqQRTEtiUf1n"
   },
   "outputs": [],
   "source": [
    "%%time\n",
    "# Puede que se demore un poco esta celda\n",
    "corpus_df['tokenized_abstract_without_stopwords'] = corpus_df.tokenized_abstract.map(remove_stopwords)"
   ]
  },
  {
   "cell_type": "code",
   "execution_count": 0,
   "metadata": {
    "colab": {},
    "colab_type": "code",
    "id": "1Qf1SZ8DRQ6p"
   },
   "outputs": [],
   "source": [
    "corpus_df.head(5)"
   ]
  },
  {
   "cell_type": "code",
   "execution_count": 0,
   "metadata": {
    "colab": {},
    "colab_type": "code",
    "id": "zsAcYiECX0FO"
   },
   "outputs": [],
   "source": [
    "corpus_df['bow_without_stopwords'] = corpus_df.tokenized_abstract_without_stopwords.map(dictionary.doc2bow)\n",
    "corpus_df.head(5)"
   ]
  },
  {
   "cell_type": "code",
   "execution_count": 0,
   "metadata": {
    "colab": {},
    "colab_type": "code",
    "id": "J2CWQqabaUFo"
   },
   "outputs": [],
   "source": [
    "corpus = corpus_df['bow_without_stopwords'].tolist()\n",
    "\n",
    "tfidf_model_file_without_stopwords = 'resources/tfidf_model.p'\n",
    "\n",
    "if isfile(tfidf_model_file):\n",
    "    tfidf_model_without_stopwords = models.tfidfmodel.TfidfModel().load(tfidf_model_file)\n",
    "\n",
    "else:\n",
    "    tfidf_model_without_stopwords = models.tfidfmodel.TfidfModel(corpus, dictionary=dictionary)\n",
    "    tfidf_model_without_stopwords.save(tfidf_model_file_without_stopwords)\n",
    "\n",
    "corpus_df['tf_idf_without_stopwords'] = tfidf_model_without_stopwords[corpus_df.bow_without_stopwords.tolist()]\n",
    "corpus_df.head(5)"
   ]
  },
  {
   "cell_type": "markdown",
   "metadata": {
    "colab_type": "text",
    "id": "yXj_9I_JitXw"
   },
   "source": [
    "**Actividad:** Genere recomendaciones para un nuevo usuario utilizando los nuevos vectores generados sin stop-words."
   ]
  },
  {
   "cell_type": "code",
   "execution_count": 0,
   "metadata": {
    "colab": {},
    "colab_type": "code",
    "id": "N6IAj7wii_OD"
   },
   "outputs": [],
   "source": []
  },
  {
   "cell_type": "markdown",
   "metadata": {
    "colab_type": "text",
    "id": "bxqEz_S0ensc"
   },
   "source": [
    "# Word Embeddings\n",
    "En esta sección haremos recomendacion de textos médicos de [PubMed](https://www.ncbi.nlm.nih.gov/pubmed/) que han sido revisados por expertos. \n",
    "\n",
    "RESPONDER LAS SIGUIENTES PREGUNTAS: \n",
    "- ¿Que son word embeddings? ¿Cuál es la intuición?\n",
    "- ¿Por qué son útiles para representar documentos?\n"
   ]
  },
  {
   "cell_type": "code",
   "execution_count": 0,
   "metadata": {
    "colab": {},
    "colab_type": "code",
    "id": "7vnYP9TQSdfV"
   },
   "outputs": [],
   "source": [
    "# Descarga de recursos\n",
    "!wget https://www.dropbox.com/s/gc3x9rp4gu2tmch/documents_w2vec.json.zip\n",
    "!unzip documents_w2vec.json.zip"
   ]
  },
  {
   "cell_type": "code",
   "execution_count": 0,
   "metadata": {
    "colab": {},
    "colab_type": "code",
    "id": "vmyJj4cbSdnP"
   },
   "outputs": [],
   "source": [
    "# Descarga del dataset\n",
    "!wget https://www.dropbox.com/s/1bxuw3uf3xwyrr7/pubmed_data.csv"
   ]
  },
  {
   "cell_type": "markdown",
   "metadata": {
    "colab_type": "text",
    "id": "7HY0AggcTvH0"
   },
   "source": [
    "Podemos ver que este _dataet: contiene 4 columnas:\n",
    "* **user_id**: identificador de cada usuario \n",
    "* **pid**: identificador de cada texto con su correlativo de PubMed. \n",
    "* **_title_**: título del documento, en este caso, de un _paper_\n",
    "* **_abstract_**: primer párafo del _paper_ que es una representación abreviada, objetiva y precisa del contenido de un documento o recurso."
   ]
  },
  {
   "cell_type": "code",
   "execution_count": 0,
   "metadata": {
    "colab": {},
    "colab_type": "code",
    "id": "0dKbIzvXTr-N"
   },
   "outputs": [],
   "source": [
    "df = pd.read_csv('pubmed_data.csv')\n",
    "df.head()"
   ]
  },
  {
   "cell_type": "code",
   "execution_count": 0,
   "metadata": {
    "colab": {},
    "colab_type": "code",
    "id": "dGXXyftCUAOt"
   },
   "outputs": [],
   "source": [
    "# creamos diccionario de titulos y abstracts que utilizaremos despues\n",
    "dict_title_abstract = {}\n",
    "\n",
    "for pid, title, abstract in zip(df.pid, df.title, df.abstract):\n",
    "  dict_title_abstract[pid] = {'title': title, 'abstract': abstract}"
   ]
  },
  {
   "cell_type": "code",
   "execution_count": 0,
   "metadata": {
    "colab": {},
    "colab_type": "code",
    "id": "lE0JMfF4Sd3a"
   },
   "outputs": [],
   "source": [
    "# cargamos diccionario de embeddings por cada documento (pre-procesado)\n",
    "w2vec_vectors = json.load(open('documents_w2vec.json'))\n"
   ]
  },
  {
   "cell_type": "markdown",
   "metadata": {
    "colab_type": "text",
    "id": "CqjurNgZVBHp"
   },
   "source": [
    "creamos un objeto *gensim.keyedvectors* para hacer más eficiente la búsqueda de documentos similares"
   ]
  },
  {
   "cell_type": "code",
   "execution_count": 0,
   "metadata": {
    "colab": {},
    "colab_type": "code",
    "id": "DhKPIiaCU-5m"
   },
   "outputs": [],
   "source": [
    "embedding_size = 300\n",
    "\n",
    "doc2vec = gensim.models.keyedvectors.Word2VecKeyedVectors(embedding_size)\n",
    "keys = list(w2vec_vectors.keys())\n",
    "values = [\n",
    "    w2vec_vectors[key]\n",
    "    for key in keys\n",
    "]\n",
    "doc2vec.add(keys, values)"
   ]
  },
  {
   "cell_type": "markdown",
   "metadata": {
    "colab_type": "text",
    "id": "74V5fvAfY3cQ"
   },
   "source": [
    "## Generar recomendaciones"
   ]
  },
  {
   "cell_type": "markdown",
   "metadata": {
    "colab_type": "text",
    "id": "kL7YfnQaUxge"
   },
   "source": [
    "función **find_similar** para encontrar documentos similares a un pid en particular que recibe id del documento y los topn documentos mas similares y retorna topn documentos más similares"
   ]
  },
  {
   "cell_type": "code",
   "execution_count": 0,
   "metadata": {
    "colab": {},
    "colab_type": "code",
    "id": "cYpU31trUG6b"
   },
   "outputs": [],
   "source": [
    "def find_similar(pid, topn):\n",
    "  results = []\n",
    "\n",
    "  for id_, score in doc2vec.similar_by_vector(doc2vec[pid], topn=topn):\n",
    "      results.append([id_, score, dict_title_abstract[int(id_)]['title'], dict_title_abstract[int(id_)]['abstract']])\n",
    "\n",
    "  return pd.DataFrame(results[1:], columns = ['pid', 'score', 'title', 'abstract'])"
   ]
  },
  {
   "cell_type": "code",
   "execution_count": 0,
   "metadata": {
    "colab": {},
    "colab_type": "code",
    "id": "5hdVsRKTUHCB"
   },
   "outputs": [],
   "source": [
    "find_similar('22508578', 10)"
   ]
  },
  {
   "cell_type": "markdown",
   "metadata": {
    "colab_type": "text",
    "id": "eqovwUr7VNMx"
   },
   "source": [
    "función **recommend** para recomendar a un usuario de acuerdo una muestra de documentos que ha leído."
   ]
  },
  {
   "cell_type": "code",
   "execution_count": 0,
   "metadata": {
    "colab": {},
    "colab_type": "code",
    "id": "gl5-3vZCUHHQ"
   },
   "outputs": [],
   "source": [
    "def recommend(user_id, topn, sample_user):\n",
    "  user_docs =  df[df.user_id==user_id]['pid'].sample(sample_user)\n",
    "\n",
    "  results = []\n",
    "\n",
    "  for pid in user_docs:\n",
    "\n",
    "    for id_, score in doc2vec.similar_by_vector(doc2vec[str(pid)], topn=topn):\n",
    "\n",
    "      if int(id_) in dict_title_abstract:\n",
    "        results.append([id_, score, dict_title_abstract[int(id_)]['title'], dict_title_abstract[int(id_)]['abstract']])\n",
    "    \n",
    "\n",
    "  results = sorted(results, key = lambda x: int(x[1]))\n",
    "\n",
    "  return pd.DataFrame(results[topn:], columns = ['pid', 'score', 'title', 'abstract']).head(10)"
   ]
  },
  {
   "cell_type": "code",
   "execution_count": 0,
   "metadata": {
    "colab": {},
    "colab_type": "code",
    "id": "FN1yayQPUHKv"
   },
   "outputs": [],
   "source": [
    "# documentos leidos por el usuario \n",
    "df[df.user_id==348892].sample(10)"
   ]
  },
  {
   "cell_type": "code",
   "execution_count": 0,
   "metadata": {
    "colab": {},
    "colab_type": "code",
    "id": "f3OgPussUHOj"
   },
   "outputs": [],
   "source": [
    "recommend(user_id= 348892, topn= 10, sample_user = 5)"
   ]
  },
  {
   "cell_type": "markdown",
   "metadata": {
    "colab_type": "text",
    "id": "kT9KuOZyVsBS"
   },
   "source": [
    "RESPONDER:\n",
    "- ¿Qué problemas puede tener la recomendación basada en contenido?"
   ]
  },
  {
   "cell_type": "code",
   "execution_count": 0,
   "metadata": {
    "colab": {},
    "colab_type": "code",
    "id": "udiRZZeyaino"
   },
   "outputs": [],
   "source": []
  }
 ],
 "metadata": {
  "colab": {
   "collapsed_sections": [],
   "name": "RecsysContentBased_2019.ipynb",
   "provenance": [],
   "version": "0.3.2"
  },
  "kernelspec": {
   "display_name": "Python 3",
   "language": "python",
   "name": "python3"
  },
  "language_info": {
   "codemirror_mode": {
    "name": "ipython",
    "version": 3
   },
   "file_extension": ".py",
   "mimetype": "text/x-python",
   "name": "python",
   "nbconvert_exporter": "python",
   "pygments_lexer": "ipython3",
   "version": "3.5.2"
  }
 },
 "nbformat": 4,
 "nbformat_minor": 1
}
