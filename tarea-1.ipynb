{
 "cells": [
  {
   "cell_type": "markdown",
   "metadata": {
    "colab_type": "text",
    "id": "view-in-github"
   },
   "source": [
    "<a href=\"https://colab.research.google.com/github/Hernan4444/diplomado-sistemas-recomendadores/blob/master/Diplomado_Alumno_2019_Sistemas_Recomendadores_3_Content_Based.ipynb\" target=\"_parent\"><img src=\"https://colab.research.google.com/assets/colab-badge.svg\" alt=\"Open In Colab\"/></a>"
   ]
  },
  {
   "cell_type": "markdown",
   "metadata": {
    "colab_type": "text",
    "id": "NC-ceGb8LRLT"
   },
   "source": [
    "# TAREA 1: SISTEMAS RECOMENDADORES"
   ]
  },
  {
   "cell_type": "markdown",
   "metadata": {
    "colab_type": "text",
    "id": "mACJbcW8T35p"
   },
   "source": [
    "**Integrantes**: Martin Alamos, Franco Mendez"
   ]
  },
  {
   "cell_type": "markdown",
   "metadata": {
    "colab_type": "text",
    "id": "uKAqmo5IdQFI"
   },
   "source": [
    "# Pregunta 1\n",
    "\n",
    "Grafique la distribución de usuarios con número de interacciones, identifique los 5 usuarios más\n",
    "activos en el dataset de WikiMedia Commons. Comente la forma de la distribución y qué por-\n",
    "centaje de las interacciones han sido hechas por estos 5 usuarios.\n"
   ]
  },
  {
   "cell_type": "markdown",
   "metadata": {
    "colab_type": "text",
    "id": "VvDxjWvUdcv8"
   },
   "source": []
  },
  {
   "cell_type": "code",
   "execution_count": 31,
   "metadata": {},
   "outputs": [],
   "source": [
    "import pandas as pd\n",
    "import numpy as np\n",
    "import pyreclab\n",
    "import matplotlib.pyplot as plt\n",
    "import scipy.sparse as sparse\n",
    "import math\n",
    "import time\n",
    "import implicit"
   ]
  },
  {
   "cell_type": "code",
   "execution_count": 1,
   "metadata": {
    "colab_type": "text",
    "id": "IFpEoacrMwQx"
   },
   "outputs": [],
   "source": [
    "views = {} # user : numer_of_interactions\n",
    "image_views = {} # image: number_of_interactions\n",
    "\n",
    "fo = open(\"files/training.csv\", \"r\")\n",
    "fo.readline()\n",
    "for line in fo.readlines():\n",
    "    user, image, time = line.rstrip().split(\",\")\n",
    "    if user in views:\n",
    "        views[user] += 1\n",
    "    else:\n",
    "        views[user] = 1\n",
    "\n",
    "    if image in image_views:\n",
    "        image_views[image] +=1\n",
    "    else:\n",
    "        image_views[image] = 1\n",
    "fo.close()"
   ]
  },
  {
   "cell_type": "markdown",
   "metadata": {},
   "source": [
    "Hacemos los correspondinetes diccionarios con numero de iteraciones"
   ]
  },
  {
   "cell_type": "code",
   "execution_count": 3,
   "metadata": {
    "colab": {},
    "colab_type": "code",
    "id": "sUlFGZprHneQ"
   },
   "outputs": [],
   "source": [
    "user_interaction = {} # number_of_interactions : amount_of_users\n",
    "for user in views:\n",
    "    if views[user] in user_interaction:\n",
    "        user_interaction[views[user]] += 1\n",
    "    else:\n",
    "        user_interaction[views[user]] = 1\n",
    "\n",
    "image_interaction = {} # number_of_interactions : amount_of_images\n",
    "for image in image_views:\n",
    "    if image_views[image] in image_interaction:\n",
    "        image_interaction[image_views[image]] += 1\n",
    "    else:\n",
    "        image_interaction[image_views[image]] = 1"
   ]
  },
  {
   "cell_type": "markdown",
   "metadata": {},
   "source": [
    "Tomamos el top 5 de imagenes y usuarios segun interacciones"
   ]
  },
  {
   "cell_type": "code",
   "execution_count": 16,
   "metadata": {
    "colab": {},
    "colab_type": "code",
    "id": "BN0P2xxrH0z8"
   },
   "outputs": [
    {
     "name": "stdout",
     "output_type": "stream",
     "text": [
      "los 5 usuarios mas activos son : ['2524', '4605', '2133', '5907', '5607']\n",
      "las 5 imagenes mas vistas son ['201707149', '201812099', '201804142', '201901175', '201204203']\n"
     ]
    }
   ],
   "source": [
    "# get top\n",
    "top_five_users = [] # user1, user2, ...\n",
    "counter = 0\n",
    "for key, value in sorted(views.items(), key=lambda kv: kv[1], reverse=True):\n",
    "    top_five_users.append(key)\n",
    "    counter += 1\n",
    "    if counter > 4: break\n",
    "\n",
    "top_five_image = [] # user1, user2, ...\n",
    "counter = 0\n",
    "for key, value in sorted(image_views.items(), key=lambda kv: kv[1], reverse=True):\n",
    "    top_five_image.append(key)\n",
    "    counter += 1\n",
    "    if counter > 4: break\n",
    "# finish get top 5\n",
    "print(\"los 5 usuarios mas activos son :\", top_five_users)\n",
    "print(\"las 5 imagenes mas vistas son\", top_five_image)"
   ]
  },
  {
   "cell_type": "markdown",
   "metadata": {},
   "source": [
    "Calculamos las estadisticas"
   ]
  },
  {
   "cell_type": "code",
   "execution_count": 8,
   "metadata": {},
   "outputs": [
    {
     "name": "stdout",
     "output_type": "stream",
     "text": [
      "stats:\n",
      "number of users: 1079\n",
      "number of images: 9630\n",
      "mean_image_per_user: 89.41612604263207\n",
      "de_image_per_user: 260.53834648700354\n",
      "mean_user_per_image: 10.018691588785046\n",
      "de_user_per_image: 4.35659507116784\n",
      "density: 0.009285163659671036\n",
      "sparsity: 0.990714836340329\n"
     ]
    }
   ],
   "source": [
    "total_number_of_interactions = sum(views[u] for u in views)\n",
    "number_of_different_users = len(views)\n",
    "number_of_different_images = len(image_views)\n",
    "mean_image_per_user = sum(views[u] for u in views) / number_of_different_users\n",
    "de_image_per_user = math.sqrt((sum((views[u] - mean_image_per_user)**2 for u in views))/number_of_different_users)\n",
    "mean_user_per_image = sum(image_views[i] for i in image_views) / number_of_different_images\n",
    "de_user_per_image = math.sqrt((sum((image_views[i] - mean_user_per_image)**2 for i in image_views))/number_of_different_images)\n",
    "density = total_number_of_interactions / (number_of_different_users * number_of_different_images)\n",
    "sparsity = 1 - density\n",
    "\n",
    "print(\"stats:\")\n",
    "print(\"number of users:\", number_of_different_users)\n",
    "print(\"number of images:\", number_of_different_images)\n",
    "print(\"mean_image_per_user:\", mean_image_per_user)\n",
    "print(\"de_image_per_user:\", de_image_per_user)\n",
    "print(\"mean_user_per_image:\", mean_user_per_image)\n",
    "print(\"de_user_per_image:\", de_user_per_image)\n",
    "print(\"density:\", density)\n",
    "print(\"sparsity:\", sparsity)"
   ]
  },
  {
   "cell_type": "markdown",
   "metadata": {},
   "source": [
    "Actualizamos datos para ser graficados"
   ]
  },
  {
   "cell_type": "code",
   "execution_count": 12,
   "metadata": {},
   "outputs": [],
   "source": [
    "# lets graph!\n",
    "user_graph_data = [] # (number_of_interactions, number_of_users rango de 3)\n",
    "for k in user_interaction:\n",
    "    user_graph_data.append((k, user_interaction[k]))\n",
    "user_graph_data = sorted(user_graph_data)\n",
    "\n",
    "image_graph_data = []\n",
    "for k in image_interaction:\n",
    "    image_graph_data.append((k, image_interaction[k]))\n",
    "image_graph_data = sorted(image_graph_data)\n",
    "\n",
    "# aca agrupamos la info para que no sea tan grande\n",
    "new_graph_data = [] # ('0-3', 74), ('4-7', 95)\n",
    "x_name = ''\n",
    "count = 0\n",
    "counter = 0\n",
    "for x, y in user_graph_data:\n",
    "    counter += y\n",
    "    if count == 0:\n",
    "        x_name = str(x) + '-'\n",
    "    if count == 3:\n",
    "        x_name += str(x)\n",
    "        new_graph_data.append((x_name, counter))\n",
    "        count = -1\n",
    "        counter = 0\n",
    "    count += 1"
   ]
  },
  {
   "cell_type": "code",
   "execution_count": 14,
   "metadata": {},
   "outputs": [
    {
     "data": {
      "image/png": "[encoded data removed]",
      "text/plain": [
       "<Figure size 432x288 with 1 Axes>"
      ]
     },
     "metadata": {
      "needs_background": "light"
     },
     "output_type": "display_data"
    },
    {
     "data": {
      "image/png": "[encoded data removed]",
      "text/plain": [
       "<Figure size 432x288 with 1 Axes>"
      ]
     },
     "metadata": {
      "needs_background": "light"
     },
     "output_type": "display_data"
    },
    {
     "name": "stdout",
     "output_type": "stream",
     "text": [
      "los 5 usuarios mas activos son : ['2524', '4605', '2133', '5907', '5607']\n"
     ]
    }
   ],
   "source": [
    "plt.bar([i[0] for i in new_graph_data], [j[1] for j in new_graph_data])\n",
    "plt.xlabel('Numero de interacciones', fontsize=15)\n",
    "plt.ylabel('Numero de usuarios', fontsize=15)\n",
    "plt.xticks([i[0] for i in new_graph_data], [i[0] for i in new_graph_data], rotation=70)\n",
    "plt.plot([i[0] for i in new_graph_data], [j[1] for j in new_graph_data], 'r-')\n",
    "plt.show()\n",
    "\n",
    "# simple graph\n",
    "plt.bar([i[0] for i in user_graph_data], [j[1] for j in user_graph_data])\n",
    "plt.xlabel('Numero de interacciones', fontsize=15)\n",
    "plt.ylabel('Numero de usuarios', fontsize=15)\n",
    "plt.plot([i[0] for i in user_graph_data], [j[1] for j in user_graph_data], 'r-')\n",
    "plt.show()"
   ]
  },
  {
   "cell_type": "code",
   "execution_count": 17,
   "metadata": {},
   "outputs": [
    {
     "name": "stdout",
     "output_type": "stream",
     "text": [
      "total_interactions:  96480\n",
      "made by top 5 users 13477\n",
      "percent made by top 5 users 13.968698175787727\n",
      "percent of image 0.16065505804311775\n",
      "made by in top 5 images 155\n"
     ]
    }
   ],
   "source": [
    "total_interactions = 0\n",
    "interactions_made_by_top_5_users = 0\n",
    "interactions_in_top_5_images = 0\n",
    "\n",
    "for user in views:\n",
    "    total_interactions += views[user]\n",
    "    if user in top_five_users:\n",
    "        interactions_made_by_top_5_users += views[user]\n",
    "print(\"total_interactions: \", total_interactions)\n",
    "print(\"made by top 5 users\", interactions_made_by_top_5_users)\n",
    "percent_user = 100 * interactions_made_by_top_5_users / total_interactions\n",
    "print(\"percent made by top 5 users\", percent_user)\n",
    "\n",
    "for image in image_views:\n",
    "    if image in top_five_image:\n",
    "        interactions_in_top_5_images += image_views[image]\n",
    "percent_imaage = 100 * interactions_in_top_5_images / total_interactions\n",
    "print(\"percent of image\", percent_imaage)\n",
    "\n",
    "print(\"made by in top 5 images\", interactions_in_top_5_images)"
   ]
  },
  {
   "cell_type": "code",
   "execution_count": 18,
   "metadata": {},
   "outputs": [
    {
     "data": {
      "image/png": "[encoded data removed]",
      "text/plain": [
       "<Figure size 432x288 with 1 Axes>"
      ]
     },
     "metadata": {
      "needs_background": "light"
     },
     "output_type": "display_data"
    },
    {
     "name": "stdout",
     "output_type": "stream",
     "text": [
      "los 5 imagenes mas vistas son : ['201707149', '201812099', '201804142', '201901175', '201204203']\n"
     ]
    }
   ],
   "source": [
    "plt.xlabel('Numero de interacciones', fontsize=15)\n",
    "plt.ylabel('Numero de imagenes', fontsize=15)\n",
    "plt.bar([i[0] for i in image_graph_data], [j[1] for j in image_graph_data])\n",
    "plt.plot([i[0] for i in image_graph_data], [j[1] for j in image_graph_data], 'r--')\n",
    "plt.show()\n",
    "print(\"los 5 imagenes mas vistas son :\", top_five_image)"
   ]
  },
  {
   "cell_type": "markdown",
   "metadata": {
    "colab_type": "text",
    "id": "TJon9T5ZMwRG"
   },
   "source": [
    "# Pregunta 2"
   ]
  },
  {
   "cell_type": "markdown",
   "metadata": {},
   "source": [
    "Importamos la informacion requerida"
   ]
  },
  {
   "cell_type": "code",
   "execution_count": 44,
   "metadata": {
    "colab": {},
    "colab_type": "code",
    "id": "zT11_REYOyFO"
   },
   "outputs": [],
   "source": [
    "import metrics\n",
    "\n",
    "metrics = metrics.Metrics()\n",
    "\n",
    "TRAIN_FILE = 'data/new_training_set.csv'\n",
    "TEST_FILE = 'data/new_testing_set.csv'"
   ]
  },
  {
   "cell_type": "markdown",
   "metadata": {},
   "source": [
    "funciones para evaluar el modelo y mostrar recomendaciones"
   ]
  },
  {
   "cell_type": "code",
   "execution_count": 23,
   "metadata": {
    "colab_type": "text",
    "id": "pSGsVQkyQoVi"
   },
   "outputs": [],
   "source": [
    "def evaluate_model(model, n):\n",
    "  mean_map = 0.\n",
    "  mean_ndcg = 0.\n",
    "  for u in range(len(user_items)): # para cada user_id en el training\n",
    "    rec = [t[0] for t in model.recommend(u, user_item_matrix, n)]\n",
    "    user_item_test_list = [items_ids[i] for i in user_items_test[user_ids_inv[u]]] # lista con las peliculas que vio en el test\n",
    "    rel_vector = [np.isin(user_item_test_list, rec, assume_unique=True).astype(int)]\n",
    "    mean_map += metrics.mean_average_precision(rel_vector)\n",
    "    mean_ndcg += metrics.ndcg_at_k(rel_vector, n)\n",
    "\n",
    "  mean_map /= len(user_items_test)\n",
    "  mean_ndcg /= len(user_items_test)\n",
    "\n",
    "  return mean_map, mean_ndcg\n",
    "\n",
    "def show_recommendations(model, user, n):\n",
    "  recommendations = [items_ids_inv[t[0]] for t in model.recommend(user, user_item_matrix, n)]\n",
    "  return recommendations\n",
    "\n",
    "def show_similar_item(model, item, n=10):\n",
    "  sim_items = [t[0] for t in model.similar_items(item, n)]\n",
    "  return sim_items"
   ]
  },
  {
   "cell_type": "code",
   "execution_count": 24,
   "metadata": {},
   "outputs": [],
   "source": [
    "df_train = pd.read_csv(TRAIN_FILE, names=['userid', 'itemid', 'timestamp'])\n",
    "df_test = pd.read_csv(TEST_FILE, names=['userid', 'itemid', 'timestamp'])\n",
    "\n",
    "# TEST USER ITEM\n",
    "user_items_test = {} # {userid: [imageid1, imageid2, ... ]}\n",
    "for row in df_test.itertuples():\n",
    "    if row[1] not in user_items_test:\n",
    "        user_items_test[row[1]] = []\n",
    "    user_items_test[row[1]].append(row[2])\n",
    "\n",
    "# PROCESAMIENTO DE LOS DATOS A FORMATO SPARSE\n",
    "user_items = {} # TRAIN - {userid: [imageid1, imageid2, ... ]}\n",
    "itemset = set() # {imageid1, imageid2, imageid3, ... }\n",
    "\n",
    "for row in df_train.itertuples():\n",
    "    if row[1] not in user_items:\n",
    "        user_items[row[1]] = []\n",
    "    user_items[row[1]].append(row[2])\n",
    "    itemset.add(row[2])\n",
    "\n",
    "# agregamos aquellas imagenes que no estan en el df_test\n",
    "for row in df_test.itertuples():\n",
    "    itemset.add(row[2])"
   ]
  },
  {
   "cell_type": "code",
   "execution_count": 45,
   "metadata": {},
   "outputs": [],
   "source": [
    "itemset = np.sort(list(itemset)) # todos los items ordenados en un set\n",
    "userset = np.sort(list(user_items.keys())) # todos los users ordenados en un set\n",
    "\n",
    "user_ids = {key: i for i, key in enumerate(userset)} # user_id: numero_file_en_la_matriz\n",
    "user_ids_inv = {i: key for i, key in enumerate(userset)} # numero_file_en_la_matriz: user_id:\n",
    "\n",
    "items_ids = {key: i for i, key in enumerate(itemset)} # item_id: numero_columna_en_la_matriz\n",
    "items_ids_inv = {i: key for i, key in enumerate(itemset)} # numero_columna_en_la_matriz: item_id\n",
    "\n",
    "sparse_matrix = np.zeros((len(user_items), len(itemset))) # matriz de nxm llena de 0s\n",
    "\n",
    "for i in range(len(user_items)):\n",
    "    sparse_matrix[i] = np.isin(itemset, user_items[user_ids_inv[i]], assume_unique=True).astype(int)\n",
    "\n",
    "matrix = sparse.csr_matrix(sparse_matrix.T)\n",
    "user_item_matrix = matrix.T.tocsr()\n",
    "# FIN PROCESAMIENTO DE LOS DATOS A FORMATO SPARSE"
   ]
  },
  {
   "cell_type": "markdown",
   "metadata": {},
   "source": [
    "Los hiperámetros a utilizar son los siguientes"
   ]
  },
  {
   "cell_type": "code",
   "execution_count": 46,
   "metadata": {},
   "outputs": [],
   "source": [
    "# tiempos e hiperparametros\n",
    "test_factors = [50, 100, 200, 500, 1000]\n",
    "test_iterations = [15, 20, 60, 140, 200]\n",
    "test_regulazation = [0.01, 0.1, 0.15, 0.2, 0.5]\n",
    "test_lr = [0.001, 0.01, 0.02, 0.05]"
   ]
  },
  {
   "cell_type": "markdown",
   "metadata": {
    "colab_type": "text",
    "id": "7HU7NoDUhnYl"
   },
   "source": [
    "## 2.1 ALS"
   ]
  },
  {
   "cell_type": "code",
   "execution_count": 32,
   "metadata": {
    "colab": {},
    "colab_type": "code",
    "id": "rtscg3KuMwRL"
   },
   "outputs": [
    {
     "name": "stderr",
     "output_type": "stream",
     "text": [
      "WARNING:root:OpenBLAS detected. Its highly recommend to set the environment variable 'export OPENBLAS_NUM_THREADS=1' to disable its internal multithreading\n"
     ]
    },
    {
     "data": {
      "application/vnd.jupyter.widget-view+json": {
       "model_id": "2a440880731647ee92b4bbcf3a509a60",
       "version_major": 2,
       "version_minor": 0
      },
      "text/plain": [
       "HBox(children=(IntProgress(value=0, max=15), HTML(value='')))"
      ]
     },
     "metadata": {},
     "output_type": "display_data"
    },
    {
     "name": "stdout",
     "output_type": "stream",
     "text": [
      "\n",
      "recomendaciones als factor:  50 [200505072, 200505089, 200601018, 200603023, 200606042]\n",
      "timepo de entrenamiento als facotr:  50 4.76656436920166\n"
     ]
    },
    {
     "data": {
      "application/vnd.jupyter.widget-view+json": {
       "model_id": "91f43a4577b84b46a09e62070e64a257",
       "version_major": 2,
       "version_minor": 0
      },
      "text/plain": [
       "HBox(children=(IntProgress(value=0, max=15), HTML(value='')))"
      ]
     },
     "metadata": {},
     "output_type": "display_data"
    },
    {
     "name": "stdout",
     "output_type": "stream",
     "text": [
      "\n",
      "recomendaciones als factor:  100 [200603023, 200603024, 200602011, 200602026, 200512005]\n",
      "timepo de entrenamiento als facotr:  100 7.691938877105713\n"
     ]
    },
    {
     "data": {
      "application/vnd.jupyter.widget-view+json": {
       "model_id": "6bcceb9c14484928a2c050335e9c38db",
       "version_major": 2,
       "version_minor": 0
      },
      "text/plain": [
       "HBox(children=(IntProgress(value=0, max=15), HTML(value='')))"
      ]
     },
     "metadata": {},
     "output_type": "display_data"
    },
    {
     "name": "stdout",
     "output_type": "stream",
     "text": [
      "\n",
      "recomendaciones als factor:  200 [200505089, 200505060, 200512005, 200504053, 200512013]\n",
      "timepo de entrenamiento als facotr:  200 9.315412044525146\n"
     ]
    },
    {
     "data": {
      "application/vnd.jupyter.widget-view+json": {
       "model_id": "54c0ea9671ad40dfb9c4fd2ed9728cb7",
       "version_major": 2,
       "version_minor": 0
      },
      "text/plain": [
       "HBox(children=(IntProgress(value=0, max=15), HTML(value='')))"
      ]
     },
     "metadata": {},
     "output_type": "display_data"
    },
    {
     "name": "stdout",
     "output_type": "stream",
     "text": [
      "\n",
      "recomendaciones als factor:  500 [200601033, 200601029, 200601051, 200602031, 200504053]\n",
      "timepo de entrenamiento als facotr:  500 23.345606327056885\n"
     ]
    },
    {
     "data": {
      "application/vnd.jupyter.widget-view+json": {
       "model_id": "85e2d1e5b1b942edb602dad0f5db25f7",
       "version_major": 2,
       "version_minor": 0
      },
      "text/plain": [
       "HBox(children=(IntProgress(value=0, max=15), HTML(value='')))"
      ]
     },
     "metadata": {},
     "output_type": "display_data"
    },
    {
     "name": "stdout",
     "output_type": "stream",
     "text": [
      "\n",
      "recomendaciones als factor:  1000 [200505020, 200506012, 200601033, 200504053, 200507049]\n",
      "timepo de entrenamiento als facotr:  1000 65.51031804084778\n",
      "maprec:  [0.050873904194541616, 0.0807362774472456, 0.09249732519135304, 0.09856276969466565, 0.08564198035067544]\n",
      "ndcg:  [0.0871177015755329, 0.12604263206672844, 0.13253012048192772, 0.1417979610750695, 0.12233549582947173]\n"
     ]
    },
    {
     "data": {
      "image/png": "[encoded data removed]",
      "text/plain": [
       "<Figure size 432x288 with 1 Axes>"
      ]
     },
     "metadata": {
      "needs_background": "light"
     },
     "output_type": "display_data"
    },
    {
     "data": {
      "image/png": "[encoded data removed]",
      "text/plain": [
       "<Figure size 432x288 with 1 Axes>"
      ]
     },
     "metadata": {
      "needs_background": "light"
     },
     "output_type": "display_data"
    }
   ],
   "source": [
    "def graph_als_test_factors():\n",
    "    maprec_results = []\n",
    "    ndcg_results = []\n",
    "    for f in test_factors:\n",
    "        my_time = time.time()\n",
    "        # iterations default number is 15\n",
    "        model_als = implicit.als.AlternatingLeastSquares(factors=f)\n",
    "        model_als.fit(matrix)\n",
    "        maprec, ndcg = evaluate_model(model_als, n=10)\n",
    "        maprec_results.append(maprec)\n",
    "        ndcg_results.append(ndcg)\n",
    "        recommendations = show_recommendations(model_als, 0, 5)\n",
    "        print(\"recomendaciones als factor: \", f, recommendations)\n",
    "        my_time = time.time() - my_time\n",
    "        print(\"timepo de entrenamiento als facotr: \",f, my_time)\n",
    "\n",
    "    print(\"maprec: \", maprec_results)\n",
    "    print(\"ndcg: \", ndcg_results)\n",
    "\n",
    "    plt.plot(test_factors, maprec_results, 'r-')\n",
    "    plt.xlabel('factor latente', fontsize=15)\n",
    "    plt.ylabel('map@10', fontsize=15)\n",
    "    plt.show()\n",
    "\n",
    "    plt.plot(test_factors, ndcg_results, 'b-')\n",
    "    plt.xlabel('factor latente', fontsize=15)\n",
    "    plt.ylabel('nDCG@10', fontsize=15)\n",
    "    plt.show()\n",
    "\n",
    "graph_als_test_factors()"
   ]
  },
  {
   "cell_type": "markdown",
   "metadata": {
    "colab_type": "text",
    "id": "qrZhH8Kqtx7_"
   },
   "source": []
  },
  {
   "cell_type": "code",
   "execution_count": 33,
   "metadata": {
    "colab": {},
    "colab_type": "code",
    "id": "3Ii2pB-LO0Xy"
   },
   "outputs": [
    {
     "data": {
      "application/vnd.jupyter.widget-view+json": {
       "model_id": "3e94a64de4bf46499d69b1b71678fbe5",
       "version_major": 2,
       "version_minor": 0
      },
      "text/plain": [
       "HBox(children=(IntProgress(value=0, max=15), HTML(value='')))"
      ]
     },
     "metadata": {},
     "output_type": "display_data"
    },
    {
     "name": "stdout",
     "output_type": "stream",
     "text": [
      "\n",
      "recomendaciones:  15 : [200603023, 200603024, 200602011, 200602026, 200602003]\n",
      "timepo:  15 : 7.891480207443237\n"
     ]
    },
    {
     "data": {
      "application/vnd.jupyter.widget-view+json": {
       "model_id": "71694ca4c03c4fa8b856c94204c8aa19",
       "version_major": 2,
       "version_minor": 0
      },
      "text/plain": [
       "HBox(children=(IntProgress(value=0, max=20), HTML(value='')))"
      ]
     },
     "metadata": {},
     "output_type": "display_data"
    },
    {
     "name": "stdout",
     "output_type": "stream",
     "text": [
      "\n",
      "recomendaciones:  20 : [200603023, 200603024, 200602011, 200602026, 200602003]\n",
      "timepo:  20 : 9.084436655044556\n"
     ]
    },
    {
     "data": {
      "application/vnd.jupyter.widget-view+json": {
       "model_id": "4519bd2915a746f2b30cbd604319f04d",
       "version_major": 2,
       "version_minor": 0
      },
      "text/plain": [
       "HBox(children=(IntProgress(value=0, max=60), HTML(value='')))"
      ]
     },
     "metadata": {},
     "output_type": "display_data"
    },
    {
     "name": "stdout",
     "output_type": "stream",
     "text": [
      "\n",
      "recomendaciones:  60 : [200603023, 200603024, 200602011, 200602026, 200602003]\n",
      "timepo:  60 : 21.509495735168457\n"
     ]
    },
    {
     "data": {
      "application/vnd.jupyter.widget-view+json": {
       "model_id": "7355843f67fe47b4996071ec446cf50c",
       "version_major": 2,
       "version_minor": 0
      },
      "text/plain": [
       "HBox(children=(IntProgress(value=0, max=140), HTML(value='')))"
      ]
     },
     "metadata": {},
     "output_type": "display_data"
    },
    {
     "name": "stdout",
     "output_type": "stream",
     "text": [
      "\n",
      "recomendaciones:  140 : [200603023, 200603024, 200602011, 200602026, 200602003]\n",
      "timepo:  140 : 47.616093158721924\n"
     ]
    },
    {
     "data": {
      "application/vnd.jupyter.widget-view+json": {
       "model_id": "8e8290e885f34f948c3e1a92bdb9b4f9",
       "version_major": 2,
       "version_minor": 0
      },
      "text/plain": [
       "HBox(children=(IntProgress(value=0, max=200), HTML(value='')))"
      ]
     },
     "metadata": {},
     "output_type": "display_data"
    },
    {
     "name": "stdout",
     "output_type": "stream",
     "text": [
      "\n",
      "recomendaciones:  200 : [200603023, 200603024, 200602011, 200602026, 200602003]\n",
      "timepo:  200 : 66.65637588500977\n",
      "[0.08009022445623526, 0.08136019012752833, 0.07776779587985423, 0.07925350060351076, 0.08056254129508156]\n",
      "[0.13067655236329936, 0.12974976830398516, 0.12140871177015755, 0.12326227988878591, 0.12418906394810009]\n"
     ]
    },
    {
     "data": {
      "image/png": "[encoded data removed]",
      "text/plain": [
       "<Figure size 432x288 with 1 Axes>"
      ]
     },
     "metadata": {
      "needs_background": "light"
     },
     "output_type": "display_data"
    },
    {
     "data": {
      "image/png": "[encoded data removed]",
      "text/plain": [
       "<Figure size 432x288 with 1 Axes>"
      ]
     },
     "metadata": {
      "needs_background": "light"
     },
     "output_type": "display_data"
    }
   ],
   "source": [
    "def graph_als_test_iterations():\n",
    "    maprec_results = []\n",
    "    ndcg_results = []\n",
    "    for i in test_iterations:\n",
    "        # iterations default number is 15\n",
    "        my_time = time.time()\n",
    "        model_als = implicit.als.AlternatingLeastSquares(iterations=i)\n",
    "        model_als.fit(matrix)\n",
    "        maprec, ndcg = evaluate_model(model_als, n=10)\n",
    "        maprec_results.append(maprec)\n",
    "        ndcg_results.append(ndcg)\n",
    "        recommendations = show_recommendations(model_als, 0, 5)\n",
    "        print(\"recomendaciones: \", i,\":\", recommendations)\n",
    "        my_time = time.time() - my_time\n",
    "        print(\"timepo: \",i,\":\", my_time)\n",
    "\n",
    "    print(maprec_results)\n",
    "    print(ndcg_results)\n",
    "\n",
    "    plt.plot(test_iterations, maprec_results, 'r-')\n",
    "    plt.xlabel('numero de iteraciones', fontsize=15)\n",
    "    plt.ylabel('map@10', fontsize=15)\n",
    "    plt.show()\n",
    "\n",
    "    plt.plot(test_iterations, ndcg_results, 'b-')\n",
    "    plt.xlabel('numero de iteraciones', fontsize=15)\n",
    "    plt.ylabel('nDCG@10', fontsize=15)\n",
    "    plt.show()\n",
    "\n",
    "graph_als_test_iterations()"
   ]
  },
  {
   "cell_type": "code",
   "execution_count": 34,
   "metadata": {},
   "outputs": [
    {
     "data": {
      "application/vnd.jupyter.widget-view+json": {
       "model_id": "f78975c61c6e4c88896ed63d4a518ef1",
       "version_major": 2,
       "version_minor": 0
      },
      "text/plain": [
       "HBox(children=(IntProgress(value=0, max=15), HTML(value='')))"
      ]
     },
     "metadata": {},
     "output_type": "display_data"
    },
    {
     "name": "stdout",
     "output_type": "stream",
     "text": [
      "\n",
      "recomendaciones:  0.01 : [200603023, 200603024, 200602011, 200602026, 200602003]\n",
      "timepo:  0.01 : 6.056642532348633\n"
     ]
    },
    {
     "data": {
      "application/vnd.jupyter.widget-view+json": {
       "model_id": "33c5d4836e6446408749f87c8e13922e",
       "version_major": 2,
       "version_minor": 0
      },
      "text/plain": [
       "HBox(children=(IntProgress(value=0, max=15), HTML(value='')))"
      ]
     },
     "metadata": {},
     "output_type": "display_data"
    },
    {
     "name": "stdout",
     "output_type": "stream",
     "text": [
      "\n",
      "recomendaciones:  0.1 : [200603023, 200603024, 200602011, 200602026, 200602003]\n",
      "timepo:  0.1 : 7.214600563049316\n"
     ]
    },
    {
     "data": {
      "application/vnd.jupyter.widget-view+json": {
       "model_id": "c1fad682d15c47a3baad1de3f07c069c",
       "version_major": 2,
       "version_minor": 0
      },
      "text/plain": [
       "HBox(children=(IntProgress(value=0, max=15), HTML(value='')))"
      ]
     },
     "metadata": {},
     "output_type": "display_data"
    },
    {
     "name": "stdout",
     "output_type": "stream",
     "text": [
      "\n",
      "recomendaciones:  0.15 : [200603023, 200603024, 200602011, 200602026, 200602003]\n",
      "timepo:  0.15 : 7.733816862106323\n"
     ]
    },
    {
     "data": {
      "application/vnd.jupyter.widget-view+json": {
       "model_id": "003b1f5fc851420a97156f1006269296",
       "version_major": 2,
       "version_minor": 0
      },
      "text/plain": [
       "HBox(children=(IntProgress(value=0, max=15), HTML(value='')))"
      ]
     },
     "metadata": {},
     "output_type": "display_data"
    },
    {
     "name": "stdout",
     "output_type": "stream",
     "text": [
      "\n",
      "recomendaciones:  0.2 : [200603023, 200603024, 200602011, 200602026, 200602003]\n",
      "timepo:  0.2 : 6.5160253047943115\n"
     ]
    },
    {
     "data": {
      "application/vnd.jupyter.widget-view+json": {
       "model_id": "e2a2170163344782b82211e2a82c6ae9",
       "version_major": 2,
       "version_minor": 0
      },
      "text/plain": [
       "HBox(children=(IntProgress(value=0, max=15), HTML(value='')))"
      ]
     },
     "metadata": {},
     "output_type": "display_data"
    },
    {
     "name": "stdout",
     "output_type": "stream",
     "text": [
      "\n",
      "recomendaciones:  0.5 : [200603023, 200603024, 200602011, 200602026, 200602003]\n",
      "timepo:  0.5 : 6.825636386871338\n",
      "[0.08104563050305699, 0.08172172369267916, 0.07563428723088299, 0.07981343975855554, 0.08111976105388291]\n",
      "[0.1278962001853568, 0.13067655236329936, 0.12511584800741427, 0.12418906394810009, 0.12604263206672844]\n"
     ]
    },
    {
     "data": {
      "image/png": "[encoded data removed]",
      "text/plain": [
       "<Figure size 432x288 with 1 Axes>"
      ]
     },
     "metadata": {
      "needs_background": "light"
     },
     "output_type": "display_data"
    },
    {
     "data": {
      "image/png": "[encoded data removed]",
      "text/plain": [
       "<Figure size 432x288 with 1 Axes>"
      ]
     },
     "metadata": {
      "needs_background": "light"
     },
     "output_type": "display_data"
    }
   ],
   "source": [
    "def graph_als_test_regulazation():\n",
    "    maprec_results = []\n",
    "    ndcg_results = []\n",
    "    for r in test_regulazation:\n",
    "        # iterations default number is 15\n",
    "        my_time = time.time()\n",
    "        model_als = implicit.als.AlternatingLeastSquares(regularization=r)\n",
    "        model_als.fit(matrix)\n",
    "        maprec, ndcg = evaluate_model(model_als, n=10)\n",
    "        maprec_results.append(maprec)\n",
    "        ndcg_results.append(ndcg)\n",
    "        recommendations = show_recommendations(model_als, 0, 5)\n",
    "        print(\"recomendaciones: \", r,\":\", recommendations)\n",
    "        my_time = time.time() - my_time\n",
    "        print(\"timepo: \",r,\":\", my_time)\n",
    "\n",
    "    print(maprec_results)\n",
    "    print(ndcg_results)\n",
    "\n",
    "    plt.plot(test_regulazation, maprec_results, 'r-')\n",
    "    plt.xlabel('regularization', fontsize=15)\n",
    "    plt.ylabel('map@10', fontsize=15)\n",
    "    plt.show()\n",
    "\n",
    "    plt.plot(test_regulazation, ndcg_results, 'b-')\n",
    "    plt.xlabel('regularization', fontsize=15)\n",
    "    plt.ylabel('nDCG@10', fontsize=15)\n",
    "    plt.show()\n",
    "\n",
    "graph_als_test_regulazation()"
   ]
  },
  {
   "cell_type": "markdown",
   "metadata": {},
   "source": []
  },
  {
   "cell_type": "markdown",
   "metadata": {
    "colab_type": "text",
    "id": "PUYnjZ1yOY-A"
   },
   "source": [
    "## 2.2 BPR"
   ]
  },
  {
   "cell_type": "markdown",
   "metadata": {
    "colab_type": "text",
    "id": "Eo0B-gBrR9Sf"
   },
   "source": []
  },
  {
   "cell_type": "code",
   "execution_count": 35,
   "metadata": {
    "colab": {},
    "colab_type": "code",
    "id": "bONZGsYBR_rn"
   },
   "outputs": [
    {
     "data": {
      "application/vnd.jupyter.widget-view+json": {
       "model_id": "2dd5642a9f0443ca9e585f3cf3377cb8",
       "version_major": 2,
       "version_minor": 0
      },
      "text/plain": [
       "HBox(children=(IntProgress(value=0), HTML(value='')))"
      ]
     },
     "metadata": {},
     "output_type": "display_data"
    },
    {
     "name": "stdout",
     "output_type": "stream",
     "text": [
      "\n",
      "recomendaciones:  50 : [200508079, 200602006, 200607053, 200606163, 200603001]\n",
      "timepo:  50 : 3.2452003955841064\n"
     ]
    },
    {
     "data": {
      "application/vnd.jupyter.widget-view+json": {
       "model_id": "6ac2d43e74734451a3171f66ad3956da",
       "version_major": 2,
       "version_minor": 0
      },
      "text/plain": [
       "HBox(children=(IntProgress(value=0), HTML(value='')))"
      ]
     },
     "metadata": {},
     "output_type": "display_data"
    },
    {
     "name": "stdout",
     "output_type": "stream",
     "text": [
      "\n",
      "recomendaciones:  100 : [200602011, 200508088, 200603023, 200605067, 200505072]\n",
      "timepo:  100 : 4.5726635456085205\n"
     ]
    },
    {
     "data": {
      "application/vnd.jupyter.widget-view+json": {
       "model_id": "f37e064696444888b6cde708d1a3378b",
       "version_major": 2,
       "version_minor": 0
      },
      "text/plain": [
       "HBox(children=(IntProgress(value=0), HTML(value='')))"
      ]
     },
     "metadata": {},
     "output_type": "display_data"
    },
    {
     "name": "stdout",
     "output_type": "stream",
     "text": [
      "\n",
      "recomendaciones:  200 : [200606161, 200602011, 200606042, 200505089, 200602026]\n",
      "timepo:  200 : 7.197801828384399\n"
     ]
    },
    {
     "data": {
      "application/vnd.jupyter.widget-view+json": {
       "model_id": "aff4015cf65143d7a6c08c89b9a83a51",
       "version_major": 2,
       "version_minor": 0
      },
      "text/plain": [
       "HBox(children=(IntProgress(value=0), HTML(value='')))"
      ]
     },
     "metadata": {},
     "output_type": "display_data"
    },
    {
     "name": "stdout",
     "output_type": "stream",
     "text": [
      "\n",
      "recomendaciones:  500 : [200508010, 200510019, 200612002, 200505072, 200512063]\n",
      "timepo:  500 : 14.877537488937378\n"
     ]
    },
    {
     "data": {
      "application/vnd.jupyter.widget-view+json": {
       "model_id": "4abe0d76ca404bc3a1b6e41b0d32b349",
       "version_major": 2,
       "version_minor": 0
      },
      "text/plain": [
       "HBox(children=(IntProgress(value=0), HTML(value='')))"
      ]
     },
     "metadata": {},
     "output_type": "display_data"
    },
    {
     "name": "stdout",
     "output_type": "stream",
     "text": [
      "\n",
      "recomendaciones:  1000 : [200609052, 200602088, 200602026, 200510072, 200508079]\n",
      "timepo:  1000 : 25.612460613250732\n"
     ]
    },
    {
     "data": {
      "image/png": "[encoded data removed]",
      "text/plain": [
       "<Figure size 432x288 with 1 Axes>"
      ]
     },
     "metadata": {
      "needs_background": "light"
     },
     "output_type": "display_data"
    },
    {
     "data": {
      "image/png": "[encoded data removed]",
      "text/plain": [
       "<Figure size 432x288 with 1 Axes>"
      ]
     },
     "metadata": {
      "needs_background": "light"
     },
     "output_type": "display_data"
    }
   ],
   "source": [
    "def graph_bpr_test_factors():\n",
    "    maprec_results = []\n",
    "    ndcg_results = []\n",
    "    for f in test_factors:\n",
    "        my_time = time.time()\n",
    "        model_bpr = implicit.bpr.BayesianPersonalizedRanking(factors=f)\n",
    "        model_bpr.fit(matrix)\n",
    "        maprec, ndcg = evaluate_model(model_bpr, n=10)\n",
    "        maprec_results.append(maprec)\n",
    "        ndcg_results.append(ndcg)\n",
    "        recommendations = show_recommendations(model_bpr, 0, 5)\n",
    "        print(\"recomendaciones: \", f,\":\", recommendations)\n",
    "        my_time = time.time() - my_time\n",
    "        print(\"timepo: \",f,\":\", my_time)\n",
    "\n",
    "    plt.plot(test_factors, maprec_results, 'r-')\n",
    "    plt.xlabel('factor latente', fontsize=15)\n",
    "    plt.ylabel('map@10', fontsize=15)\n",
    "    plt.show()\n",
    "\n",
    "    plt.plot(test_factors, ndcg_results, 'b-')\n",
    "    plt.xlabel('factor latente', fontsize=15)\n",
    "    plt.ylabel('nDCG@10', fontsize=15)\n",
    "    plt.show()\n",
    "\n",
    "graph_bpr_test_factors()"
   ]
  },
  {
   "cell_type": "markdown",
   "metadata": {
    "colab_type": "text",
    "id": "me-LXrP2Ocjc"
   },
   "source": []
  },
  {
   "cell_type": "code",
   "execution_count": 36,
   "metadata": {
    "colab": {},
    "colab_type": "code",
    "id": "1Ru8N7mZ9exU"
   },
   "outputs": [
    {
     "data": {
      "application/vnd.jupyter.widget-view+json": {
       "model_id": "d47de94b0e5d48e088f92889e9af87b7",
       "version_major": 2,
       "version_minor": 0
      },
      "text/plain": [
       "HBox(children=(IntProgress(value=0, max=15), HTML(value='')))"
      ]
     },
     "metadata": {},
     "output_type": "display_data"
    },
    {
     "name": "stdout",
     "output_type": "stream",
     "text": [
      "\n",
      "recomendaciones:  15 : [201804113, 201701014, 200603032, 201210135, 201511130]\n",
      "timepo:  15 : 2.1709964275360107\n"
     ]
    },
    {
     "data": {
      "application/vnd.jupyter.widget-view+json": {
       "model_id": "f48818aeebe34564b47d1153e5620d0b",
       "version_major": 2,
       "version_minor": 0
      },
      "text/plain": [
       "HBox(children=(IntProgress(value=0, max=20), HTML(value='')))"
      ]
     },
     "metadata": {},
     "output_type": "display_data"
    },
    {
     "name": "stdout",
     "output_type": "stream",
     "text": [
      "\n",
      "recomendaciones:  20 : [201210235, 201508190, 201601130, 201606140, 201505170]\n",
      "timepo:  20 : 1.96439528465271\n"
     ]
    },
    {
     "data": {
      "application/vnd.jupyter.widget-view+json": {
       "model_id": "26707526d0ed4b739c946cf03e28258b",
       "version_major": 2,
       "version_minor": 0
      },
      "text/plain": [
       "HBox(children=(IntProgress(value=0, max=60), HTML(value='')))"
      ]
     },
     "metadata": {},
     "output_type": "display_data"
    },
    {
     "name": "stdout",
     "output_type": "stream",
     "text": [
      "\n",
      "recomendaciones:  60 : [200601018, 200607026, 200610090, 200505072, 200604008]\n",
      "timepo:  60 : 3.4345903396606445\n"
     ]
    },
    {
     "data": {
      "application/vnd.jupyter.widget-view+json": {
       "model_id": "7f30da8f443d4703bc95ce0290667cd6",
       "version_major": 2,
       "version_minor": 0
      },
      "text/plain": [
       "HBox(children=(IntProgress(value=0, max=140), HTML(value='')))"
      ]
     },
     "metadata": {},
     "output_type": "display_data"
    },
    {
     "name": "stdout",
     "output_type": "stream",
     "text": [
      "\n",
      "recomendaciones:  140 : [200601018, 200606034, 200602005, 200606146, 200512065]\n",
      "timepo:  140 : 6.775445461273193\n"
     ]
    },
    {
     "data": {
      "application/vnd.jupyter.widget-view+json": {
       "model_id": "c22f0ee1588d4ecd9c403a1a43c452ba",
       "version_major": 2,
       "version_minor": 0
      },
      "text/plain": [
       "HBox(children=(IntProgress(value=0, max=200), HTML(value='')))"
      ]
     },
     "metadata": {},
     "output_type": "display_data"
    },
    {
     "name": "stdout",
     "output_type": "stream",
     "text": [
      "\n",
      "recomendaciones:  200 : [200512069, 200604008, 200508086, 200510012, 200602011]\n",
      "timepo:  200 : 8.322854995727539\n"
     ]
    },
    {
     "data": {
      "image/png": "[encoded data removed]",
      "text/plain": [
       "<Figure size 432x288 with 1 Axes>"
      ]
     },
     "metadata": {
      "needs_background": "light"
     },
     "output_type": "display_data"
    },
    {
     "data": {
      "image/png": "[encoded data removed]",
      "text/plain": [
       "<Figure size 432x288 with 1 Axes>"
      ]
     },
     "metadata": {
      "needs_background": "light"
     },
     "output_type": "display_data"
    }
   ],
   "source": [
    "def graph_bpr_test_iterations():\n",
    "    maprec_results = []\n",
    "    ndcg_results = []\n",
    "    for i in test_iterations:\n",
    "        my_time = time.time()\n",
    "        model_bpr = implicit.bpr.BayesianPersonalizedRanking(iterations=i)\n",
    "        model_bpr.fit(matrix)\n",
    "        maprec, ndcg = evaluate_model(model_bpr, n=10)\n",
    "        maprec_results.append(maprec)\n",
    "        ndcg_results.append(ndcg)\n",
    "        recommendations = show_recommendations(model_bpr, 0, 5)\n",
    "        print(\"recomendaciones: \", i,\":\", recommendations)\n",
    "        my_time = time.time() - my_time\n",
    "        print(\"timepo: \",i,\":\", my_time)\n",
    "\n",
    "    plt.plot(test_iterations, maprec_results, 'r-')\n",
    "    plt.xlabel('iteraciones', fontsize=15)\n",
    "    plt.ylabel('map@10', fontsize=15)\n",
    "    plt.show()\n",
    "\n",
    "    plt.plot(test_iterations, ndcg_results, 'b-')\n",
    "    plt.xlabel('iteraciones', fontsize=15)\n",
    "    plt.ylabel('nDCG@10', fontsize=15)\n",
    "    plt.show()\n",
    "\n",
    "graph_bpr_test_iterations()\n"
   ]
  },
  {
   "cell_type": "markdown",
   "metadata": {
    "colab_type": "text",
    "id": "bUTeZc5jSoIG"
   },
   "source": []
  },
  {
   "cell_type": "code",
   "execution_count": 38,
   "metadata": {
    "colab": {},
    "colab_type": "code",
    "id": "25JLYOGGSOck"
   },
   "outputs": [
    {
     "data": {
      "application/vnd.jupyter.widget-view+json": {
       "model_id": "4c9c71cb87fb490cba798437666fc867",
       "version_major": 2,
       "version_minor": 0
      },
      "text/plain": [
       "HBox(children=(IntProgress(value=0), HTML(value='')))"
      ]
     },
     "metadata": {},
     "output_type": "display_data"
    },
    {
     "name": "stdout",
     "output_type": "stream",
     "text": [
      "\n"
     ]
    },
    {
     "data": {
      "application/vnd.jupyter.widget-view+json": {
       "model_id": "3f388d19633049d9a7faf3f42c929ce4",
       "version_major": 2,
       "version_minor": 0
      },
      "text/plain": [
       "HBox(children=(IntProgress(value=0), HTML(value='')))"
      ]
     },
     "metadata": {},
     "output_type": "display_data"
    },
    {
     "name": "stdout",
     "output_type": "stream",
     "text": [
      "\n",
      "recomendaciones:  0.01 : [200601018, 200603097, 200602011, 200604009, 200605074]\n",
      "tiempo:  0.01 : 10.360525131225586\n"
     ]
    },
    {
     "data": {
      "application/vnd.jupyter.widget-view+json": {
       "model_id": "723402aff4ed4b8dbbc46895f361e8eb",
       "version_major": 2,
       "version_minor": 0
      },
      "text/plain": [
       "HBox(children=(IntProgress(value=0), HTML(value='')))"
      ]
     },
     "metadata": {},
     "output_type": "display_data"
    },
    {
     "name": "stdout",
     "output_type": "stream",
     "text": [
      "\n"
     ]
    },
    {
     "data": {
      "application/vnd.jupyter.widget-view+json": {
       "model_id": "478acd44d85c43399d48095074e1a98e",
       "version_major": 2,
       "version_minor": 0
      },
      "text/plain": [
       "HBox(children=(IntProgress(value=0), HTML(value='')))"
      ]
     },
     "metadata": {},
     "output_type": "display_data"
    },
    {
     "name": "stdout",
     "output_type": "stream",
     "text": [
      "\n",
      "recomendaciones:  0.1 : [200505032, 200510005, 200606016, 200603059, 200507098]\n",
      "tiempo:  0.1 : 11.269201040267944\n"
     ]
    },
    {
     "data": {
      "application/vnd.jupyter.widget-view+json": {
       "model_id": "bdb73de083fd45548afa022b61027c68",
       "version_major": 2,
       "version_minor": 0
      },
      "text/plain": [
       "HBox(children=(IntProgress(value=0), HTML(value='')))"
      ]
     },
     "metadata": {},
     "output_type": "display_data"
    },
    {
     "name": "stdout",
     "output_type": "stream",
     "text": [
      "\n"
     ]
    },
    {
     "data": {
      "application/vnd.jupyter.widget-view+json": {
       "model_id": "3e136ce199db433ba8cc88b448d5690a",
       "version_major": 2,
       "version_minor": 0
      },
      "text/plain": [
       "HBox(children=(IntProgress(value=0), HTML(value='')))"
      ]
     },
     "metadata": {},
     "output_type": "display_data"
    },
    {
     "name": "stdout",
     "output_type": "stream",
     "text": [
      "\n",
      "recomendaciones:  0.15 : [200512069, 200509027, 200505058, 200606044, 200602006]\n",
      "tiempo:  0.15 : 8.748910427093506\n"
     ]
    },
    {
     "data": {
      "application/vnd.jupyter.widget-view+json": {
       "model_id": "1975773732164c5baf30dc70964ab43b",
       "version_major": 2,
       "version_minor": 0
      },
      "text/plain": [
       "HBox(children=(IntProgress(value=0), HTML(value='')))"
      ]
     },
     "metadata": {},
     "output_type": "display_data"
    },
    {
     "name": "stdout",
     "output_type": "stream",
     "text": [
      "\n"
     ]
    },
    {
     "data": {
      "application/vnd.jupyter.widget-view+json": {
       "model_id": "83ab306051a64a209df3e1bec813d511",
       "version_major": 2,
       "version_minor": 0
      },
      "text/plain": [
       "HBox(children=(IntProgress(value=0), HTML(value='')))"
      ]
     },
     "metadata": {},
     "output_type": "display_data"
    },
    {
     "name": "stdout",
     "output_type": "stream",
     "text": [
      "\n",
      "recomendaciones:  0.2 : [200904074, 200710225, 200710042, 200706029, 200802057]\n",
      "tiempo:  0.2 : 9.31093430519104\n"
     ]
    },
    {
     "data": {
      "application/vnd.jupyter.widget-view+json": {
       "model_id": "078bb86a37754099a9a041507500c903",
       "version_major": 2,
       "version_minor": 0
      },
      "text/plain": [
       "HBox(children=(IntProgress(value=0), HTML(value='')))"
      ]
     },
     "metadata": {},
     "output_type": "display_data"
    },
    {
     "name": "stdout",
     "output_type": "stream",
     "text": [
      "\n"
     ]
    },
    {
     "data": {
      "application/vnd.jupyter.widget-view+json": {
       "model_id": "ba363240127c431d9d1a443b4ccc556c",
       "version_major": 2,
       "version_minor": 0
      },
      "text/plain": [
       "HBox(children=(IntProgress(value=0), HTML(value='')))"
      ]
     },
     "metadata": {},
     "output_type": "display_data"
    },
    {
     "name": "stdout",
     "output_type": "stream",
     "text": [
      "\n",
      "recomendaciones:  0.5 : [201403163, 201706170, 200902122, 201703034, 201710152]\n",
      "tiempo:  0.5 : 9.803916692733765\n"
     ]
    },
    {
     "data": {
      "image/png": "[encoded data removed]",
      "text/plain": [
       "<Figure size 432x288 with 1 Axes>"
      ]
     },
     "metadata": {
      "needs_background": "light"
     },
     "output_type": "display_data"
    },
    {
     "data": {
      "image/png": "[encoded data removed]",
      "text/plain": [
       "<Figure size 432x288 with 1 Axes>"
      ]
     },
     "metadata": {
      "needs_background": "light"
     },
     "output_type": "display_data"
    }
   ],
   "source": [
    "def graph_bpr_test_regulazation():\n",
    "    maprec_results = []\n",
    "    ndcg_results = []\n",
    "    for r in test_regulazation:\n",
    "        my_time = time.time()\n",
    "        model_bpr = implicit.bpr.BayesianPersonalizedRanking(regularization=r)\n",
    "        model_bpr.fit(matrix)\n",
    "        model_bpr.fit(matrix)\n",
    "        maprec, ndcg = evaluate_model(model_bpr, n=10)\n",
    "        maprec_results.append(maprec)\n",
    "        ndcg_results.append(ndcg)\n",
    "        recommendations = show_recommendations(model_bpr, 0, 5)\n",
    "        print(\"recomendaciones: \", r,\":\", recommendations)\n",
    "        my_time = time.time() - my_time\n",
    "        print(\"tiempo: \",r,\":\", my_time)\n",
    "\n",
    "    plt.plot(test_regulazation, maprec_results, 'b-')\n",
    "    plt.xlabel('regularization', fontsize=15)\n",
    "    plt.ylabel('map@10', fontsize=15)\n",
    "    plt.show()\n",
    "\n",
    "    plt.plot(test_regulazation, ndcg_results, 'b-')\n",
    "    plt.xlabel('regularization', fontsize=15)\n",
    "    plt.ylabel('nDCG@10', fontsize=15)\n",
    "    plt.show()\n",
    "\n",
    "graph_bpr_test_regulazation()"
   ]
  },
  {
   "cell_type": "code",
   "execution_count": 40,
   "metadata": {},
   "outputs": [
    {
     "data": {
      "application/vnd.jupyter.widget-view+json": {
       "model_id": "0f410c01f0a14bcfb20450de916078a7",
       "version_major": 2,
       "version_minor": 0
      },
      "text/plain": [
       "HBox(children=(IntProgress(value=0), HTML(value='')))"
      ]
     },
     "metadata": {},
     "output_type": "display_data"
    },
    {
     "name": "stdout",
     "output_type": "stream",
     "text": [
      "\n",
      "recomendaciones:  0.001 : [201706187, 201602160, 201505145, 201506127, 201507005]\n",
      "tiempo:  0.001 : 6.050525188446045\n"
     ]
    },
    {
     "data": {
      "application/vnd.jupyter.widget-view+json": {
       "model_id": "a003ea0157cf47da9c8b19a9b6bc4150",
       "version_major": 2,
       "version_minor": 0
      },
      "text/plain": [
       "HBox(children=(IntProgress(value=0), HTML(value='')))"
      ]
     },
     "metadata": {},
     "output_type": "display_data"
    },
    {
     "name": "stdout",
     "output_type": "stream",
     "text": [
      "\n",
      "recomendaciones:  0.01 : [200505072, 200508079, 200604008, 200602005, 200702002]\n",
      "tiempo:  0.01 : 5.9716949462890625\n"
     ]
    },
    {
     "data": {
      "application/vnd.jupyter.widget-view+json": {
       "model_id": "dc03c76572fb4a319b0fe96d10fa23e4",
       "version_major": 2,
       "version_minor": 0
      },
      "text/plain": [
       "HBox(children=(IntProgress(value=0), HTML(value='')))"
      ]
     },
     "metadata": {},
     "output_type": "display_data"
    },
    {
     "name": "stdout",
     "output_type": "stream",
     "text": [
      "\n",
      "recomendaciones:  0.02 : [200602026, 200508010, 200508079, 200511003, 200505090]\n",
      "tiempo:  0.02 : 6.617535352706909\n"
     ]
    },
    {
     "data": {
      "application/vnd.jupyter.widget-view+json": {
       "model_id": "724410b1e525402ead32477d29e1f402",
       "version_major": 2,
       "version_minor": 0
      },
      "text/plain": [
       "HBox(children=(IntProgress(value=0), HTML(value='')))"
      ]
     },
     "metadata": {},
     "output_type": "display_data"
    },
    {
     "name": "stdout",
     "output_type": "stream",
     "text": [
      "\n",
      "recomendaciones:  0.05 : [200507005, 200602003, 200510063, 200602049, 200509009]\n",
      "tiempo:  0.05 : 6.383356332778931\n"
     ]
    },
    {
     "data": {
      "image/png": "[encoded data removed]",
      "text/plain": [
       "<Figure size 432x288 with 1 Axes>"
      ]
     },
     "metadata": {
      "needs_background": "light"
     },
     "output_type": "display_data"
    },
    {
     "data": {
      "image/png": "[encoded data removed]",
      "text/plain": [
       "<Figure size 432x288 with 1 Axes>"
      ]
     },
     "metadata": {
      "needs_background": "light"
     },
     "output_type": "display_data"
    }
   ],
   "source": [
    "def graph_bpr_test_lr():\n",
    "    maprec_results = []\n",
    "    ndcg_results = []\n",
    "    for l in test_lr:\n",
    "        my_time = time.time()\n",
    "\n",
    "        model_bpr = implicit.bpr.BayesianPersonalizedRanking(learning_rate=l)\n",
    "\n",
    "        model_bpr.fit(matrix)\n",
    "        maprec, ndcg = evaluate_model(model_bpr, n=10)\n",
    "        maprec_results.append(maprec)\n",
    "        ndcg_results.append(ndcg)\n",
    "        recommendations = show_recommendations(model_bpr, 0, 5)\n",
    "        print(\"recomendaciones: \", l,\":\", recommendations)\n",
    "        my_time = time.time() - my_time\n",
    "        print(\"tiempo: \",l,\":\", my_time)\n",
    "\n",
    "    plt.plot(test_lr, maprec_results, 'r-')\n",
    "    plt.xlabel('learning rate', fontsize=15)\n",
    "    plt.ylabel('map@10', fontsize=15)\n",
    "    plt.show()\n",
    "\n",
    "    plt.plot(test_lr, ndcg_results, 'b-')\n",
    "    plt.xlabel('learning rate', fontsize=15)\n",
    "    plt.ylabel('nDCG@10', fontsize=15)\n",
    "    plt.show()\n",
    "    \n",
    "graph_bpr_test_lr()"
   ]
  },
  {
   "cell_type": "markdown",
   "metadata": {
    "colab_type": "text",
    "id": "ckrxbKlTUVJ8"
   },
   "source": [
    " \n",
    "\n",
    "## 2.3 Comparacion de los modelos con los mejores hiperparámetros\n"
   ]
  },
  {
   "cell_type": "markdown",
   "metadata": {
    "colab_type": "text",
    "id": "gpFOeSpET3BL"
   },
   "source": [
    "Como se observa en los gráficos los mejores hiperparámetros para los modelos son:\n"
   ]
  },
  {
   "cell_type": "markdown",
   "metadata": {},
   "source": [
    "Para ALS: factor de 50, 140 iteraciones y regularizador de 0.15"
   ]
  },
  {
   "cell_type": "markdown",
   "metadata": {},
   "source": [
    "Para BPR: factor de 150, 15 iteraciones, regularizador de 0.15 y learning rate de 0.01"
   ]
  },
  {
   "cell_type": "markdown",
   "metadata": {},
   "source": [
    "Ver tabla en el informe pdf"
   ]
  },
  {
   "cell_type": "code",
   "execution_count": 48,
   "metadata": {
    "colab": {},
    "colab_type": "code",
    "id": "gifqhG3_ZO0G"
   },
   "outputs": [
    {
     "data": {
      "application/vnd.jupyter.widget-view+json": {
       "model_id": "bcf4d4b577dd4758aeba24cc10b509f6",
       "version_major": 2,
       "version_minor": 0
      },
      "text/plain": [
       "HBox(children=(IntProgress(value=0, max=140), HTML(value='')))"
      ]
     },
     "metadata": {},
     "output_type": "display_data"
    },
    {
     "name": "stdout",
     "output_type": "stream",
     "text": [
      "\n",
      "ALS maprec y ndcg 0.04704175864131897 0.08063021316033364\n"
     ]
    },
    {
     "data": {
      "application/vnd.jupyter.widget-view+json": {
       "model_id": "719711dc31074851946f105731a3d353",
       "version_major": 2,
       "version_minor": 0
      },
      "text/plain": [
       "HBox(children=(IntProgress(value=0, max=15), HTML(value='')))"
      ]
     },
     "metadata": {},
     "output_type": "display_data"
    },
    {
     "name": "stdout",
     "output_type": "stream",
     "text": [
      "\n",
      "BPR maprec y ndcg 0.003413975344025218 0.026876737720111215\n"
     ]
    }
   ],
   "source": [
    "def compare_best_models():\n",
    "    model_als = implicit.als.AlternatingLeastSquares(\n",
    "                            factors=50,\n",
    "                            iterations = 140,\n",
    "                            regularization=0.15)\n",
    "\n",
    "    model_als.fit(matrix)\n",
    "    maprec, ndcg = evaluate_model(model_als, n=10)\n",
    "    print(\"ALS maprec y ndcg\",maprec, ndcg)\n",
    "\n",
    "    model_bpr = implicit.bpr.BayesianPersonalizedRanking(\n",
    "                            factors=150,\n",
    "                            iterations = 15,\n",
    "                            regularization=0.15,\n",
    "                            learning_rate=0.01)\n",
    "    model_bpr.fit(matrix)\n",
    "    maprec, ndcg = evaluate_model(model_bpr, n=10)\n",
    "    print(\"BPR maprec y ndcg\",maprec, ndcg)\n",
    "\n",
    "compare_best_models()"
   ]
  },
  {
   "cell_type": "code",
   "execution_count": 43,
   "metadata": {
    "colab_type": "text",
    "id": "IkraQ1AwWT86"
   },
   "outputs": [],
   "source": [
    "def write_recommendations_best_model():\n",
    "    model_bpr = implicit.bpr.BayesianPersonalizedRanking(\n",
    "                            factors=150,\n",
    "                            iterations = 15,\n",
    "                            regularization=0.5,\n",
    "                            learning_rate=0.01)\n",
    "    model_bpr.fit(matrix)\n",
    "\n",
    "    fo = open(\"files/test.csv\", \"r\")\n",
    "    fw = open(\"results.json\", \"w+\")\n",
    "    fw.write(\"{\\n\")\n",
    "    fo.readline()\n",
    "    for u in fo.readlines():\n",
    "        u = int(u.strip())\n",
    "        nu = user_ids[u]\n",
    "        recommendations = show_recommendations(model=model_bpr, user=nu, n=10)\n",
    "        fw.write('\"'+str(u)+'\"'+\": \")\n",
    "        fw.write(str(recommendations) + \",\" + \"\\n\")\n",
    "\n",
    "    fw.write(\"}\\n\")\n",
    "    fw.close()\n",
    "    fo.close()"
   ]
  },
  {
   "cell_type": "markdown",
   "metadata": {
    "colab": {},
    "colab_type": "code",
    "id": "29j2p32oTTzP"
   },
   "source": [
    "Las recomendaciones por usuario se encuentran en el archivo json results.json"
   ]
  },
  {
   "cell_type": "code",
   "execution_count": 0,
   "metadata": {
    "colab": {},
    "colab_type": "code",
    "id": "rEDzoAtbZdO1"
   },
   "outputs": [],
   "source": []
  },
  {
   "cell_type": "code",
   "execution_count": 0,
   "metadata": {
    "colab": {},
    "colab_type": "code",
    "id": "gDJuYbHuY2rX"
   },
   "outputs": [],
   "source": []
  },
  {
   "cell_type": "markdown",
   "metadata": {
    "colab_type": "text",
    "id": "V1Tbu3OUZ_qo"
   },
   "source": []
  },
  {
   "cell_type": "code",
   "execution_count": 0,
   "metadata": {
    "colab": {},
    "colab_type": "code",
    "id": "vvEkoc9_ZsLy"
   },
   "outputs": [],
   "source": []
  },
  {
   "cell_type": "markdown",
   "metadata": {
    "colab_type": "text",
    "id": "f23GriULTHgV"
   },
   "source": [
    "# Pregunta 3 Recomendacion basada en contenido"
   ]
  },
  {
   "cell_type": "markdown",
   "metadata": {
    "colab_type": "text",
    "id": "lQqcAAVrfwZw"
   },
   "source": [
    "Recordemos que Tf-idf es una medida numérica que expresa cuán relevante es una palabra para un documento en una colección. Ahora, dada la frecuencia de cada palabra en cada texto, se v a utilizar esta ténica para obtener tuplas de la forma `(ID, Tf-idf)` en donde ID será el ID de la palabra igual como estaba antes (por ejemplo **\"a\"** tiene ID 30) y Tf-Idf será el valor dado por este algoritmo a la palabra en cuestión."
   ]
  },
  {
   "cell_type": "code",
   "execution_count": 0,
   "metadata": {
    "colab": {},
    "colab_type": "code",
    "id": "C7ju5n3xTKtj"
   },
   "outputs": [],
   "source": [
    "tfidf_model_file = 'resources/tfidf_model.p'\n",
    "\n",
    "if isfile(tfidf_model_file):\n",
    "    tfidf_model = models.tfidfmodel.TfidfModel().load(tfidf_model_file)\n",
    "\n",
    "else:\n",
    "    tfidf_model = models.tfidfmodel.TfidfModel(corpus, dictionary=dictionary)\n",
    "    tfidf_model.save(tfidf_model_file)\n",
    "\n",
    "corpus_df['tf_idf'] = tfidf_model[corpus_df.bow.tolist()]\n",
    "corpus_df.head(5)"
   ]
  },
  {
   "cell_type": "markdown",
   "metadata": {
    "colab_type": "text",
    "id": "fU39mygGW8P9"
   },
   "source": [
    "## Generar recomendaciones: \n",
    "En esta sección se implementan las funciones necesarias para poder generar recomendaciones dado lo que un usuario ha consumido. De manera artificial, se \"samplearán\" 3 documentos aleatorios que representarán al usuario objetivo (`sample`). Luego tendrás que generar diferentes recomendaciones y evaluar los resultados."
   ]
  },
  {
   "cell_type": "code",
   "execution_count": 0,
   "metadata": {
    "colab": {},
    "colab_type": "code",
    "id": "xzolZRLmWnOX"
   },
   "outputs": [],
   "source": [
    "# Random users\n",
    "samples = corpus_df.sample(3)\n",
    "samples_ids = []\n",
    "\n",
    "for n, (ix, paper) in enumerate(samples.iterrows()):\n",
    "    samples_ids.append(ix)\n",
    "    idx, title, abstract, bow, tf_idf = paper[[\n",
    "        'id', 'title', 'abstract', 'bow', 'tf_idf']]\n",
    "    print('%d) %s' % (n+1, title))\n",
    "    print('')\n",
    "    print(\"\\n\".join(wrap(abstract)))\n",
    "    print('\\n')"
   ]
  },
  {
   "cell_type": "markdown",
   "metadata": {
    "colab_type": "text",
    "id": "VOgxiXx2XIkn"
   },
   "source": [
    "Lo anterior son 3 textos tomados al azar. Asumiremso que una persona vió estos 3 textos y ahora vamos a recomendarle 5 nuevos por cada documento."
   ]
  },
  {
   "cell_type": "code",
   "execution_count": 0,
   "metadata": {
    "colab": {},
    "colab_type": "code",
    "id": "Et3iltfFWnW8"
   },
   "outputs": [],
   "source": [
    "# Recommendation functions\n",
    "\n",
    "N = len(dictionary)\n",
    "\n",
    "\n",
    "def to_sparse(matrix):\n",
    "    return csr_matrix([\n",
    "        gensim.matutils.sparse2full(row, length=N)\n",
    "        for row in matrix\n",
    "    ])\n",
    "\n",
    "\n",
    "def make_recommendations(model, metric, neighbors):\n",
    "    M = len(corpus)\n",
    "\n",
    "    X = to_sparse(corpus_df[model].tolist())\n",
    "    document_index = NearestNeighbors(\n",
    "        n_neighbors=(neighbors + 1),\n",
    "        algorithm='brute',\n",
    "        metric=metric).fit(X)\n",
    "    return document_index\n",
    "\n",
    "\n",
    "def print_recommendations(indexes, model):\n",
    "    for n, (ix, paper) in enumerate(samples.iterrows()):\n",
    "        dists, neighbors = indexes.kneighbors([gensim.matutils.sparse2full(paper[model], length=N)])\n",
    "        print(paper['title'])\n",
    "        print('')\n",
    "        print('Documentos cercanos: ')\n",
    "        i = 1\n",
    "        for neighbour in neighbors[0]:\n",
    "            if ix != neighbour:\n",
    "                line = str(i) + \". \" + corpus_df.iloc[neighbour]['title']\n",
    "                print(line)\n",
    "                i += 1\n",
    "        print('\\n')"
   ]
  },
  {
   "cell_type": "markdown",
   "metadata": {
    "colab_type": "text",
    "id": "VmgISQfTXNXB"
   },
   "source": [
    "A continuación deberá utilizar las funciones implementadas anteriormente para generar nuevas recomendaciones variando los parámetros del modelo. **Agregue nuevas celdas para cada implementación y/o pregunta.**"
   ]
  },
  {
   "cell_type": "code",
   "execution_count": 0,
   "metadata": {
    "colab": {},
    "colab_type": "code",
    "id": "xI9OZ52IWndk"
   },
   "outputs": [],
   "source": [
    "# Recommendation example: TF-IDF\n",
    "doc_idx = make_recommendations('tf_idf', 'euclidean', 5)\n",
    "print_recommendations(doc_idx, 'tf_idf')"
   ]
  },
  {
   "cell_type": "markdown",
   "metadata": {
    "colab_type": "text",
    "id": "gfInn_xVSmZ6"
   },
   "source": [
    "# Stop words"
   ]
  },
  {
   "cell_type": "markdown",
   "metadata": {
    "colab_type": "text",
    "id": "1LgcEzIcxM4W"
   },
   "source": [
    "A continuación, intentaremos mejorar los resultados obtenidos con TF-IDF eliminando las *stopwords*. ¿Qué son las *stopwords*? Son palabras vacías, sin significado, que no aportan (de manera significativa) al sentido de una frase, como los artículos, pronombres, etc."
   ]
  },
  {
   "cell_type": "code",
   "execution_count": 0,
   "metadata": {
    "colab": {},
    "colab_type": "code",
    "id": "aNlhgqHaVZuE"
   },
   "outputs": [],
   "source": [
    "nltk.download('stopwords')"
   ]
  },
  {
   "cell_type": "code",
   "execution_count": 0,
   "metadata": {
    "colab": {},
    "colab_type": "code",
    "id": "mTKiDBwpoJ4A"
   },
   "outputs": [],
   "source": [
    "from nltk.corpus import stopwords\n",
    "\n",
    "def remove_stopwords(text):\n",
    "    filtered_words = [\n",
    "        word for word in text if word not in stopwords.words('english')\n",
    "    ]\n",
    "    return filtered_words"
   ]
  },
  {
   "cell_type": "markdown",
   "metadata": {
    "colab_type": "text",
    "id": "cQFhKTk1xM4p"
   },
   "source": [
    "Ahora eliminamos los stopwords de los textos y volvemos a hacer todo el proceso pero con textos diferentes. Este proceso dura aproximadamente **5 minutos**"
   ]
  },
  {
   "cell_type": "code",
   "execution_count": 0,
   "metadata": {
    "colab": {},
    "colab_type": "code",
    "id": "DqQRTEtiUf1n"
   },
   "outputs": [],
   "source": [
    "%%time\n",
    "# Puede que se demore un poco esta celda\n",
    "corpus_df['tokenized_abstract_without_stopwords'] = corpus_df.tokenized_abstract.map(remove_stopwords)"
   ]
  },
  {
   "cell_type": "code",
   "execution_count": 0,
   "metadata": {
    "colab": {},
    "colab_type": "code",
    "id": "1Qf1SZ8DRQ6p"
   },
   "outputs": [],
   "source": [
    "corpus_df.head(5)"
   ]
  },
  {
   "cell_type": "code",
   "execution_count": 0,
   "metadata": {
    "colab": {},
    "colab_type": "code",
    "id": "zsAcYiECX0FO"
   },
   "outputs": [],
   "source": [
    "corpus_df['bow_without_stopwords'] = corpus_df.tokenized_abstract_without_stopwords.map(dictionary.doc2bow)\n",
    "corpus_df.head(5)"
   ]
  },
  {
   "cell_type": "code",
   "execution_count": 0,
   "metadata": {
    "colab": {},
    "colab_type": "code",
    "id": "J2CWQqabaUFo"
   },
   "outputs": [],
   "source": [
    "corpus = corpus_df['bow_without_stopwords'].tolist()\n",
    "\n",
    "tfidf_model_file_without_stopwords = 'resources/tfidf_model.p'\n",
    "\n",
    "if isfile(tfidf_model_file):\n",
    "    tfidf_model_without_stopwords = models.tfidfmodel.TfidfModel().load(tfidf_model_file)\n",
    "\n",
    "else:\n",
    "    tfidf_model_without_stopwords = models.tfidfmodel.TfidfModel(corpus, dictionary=dictionary)\n",
    "    tfidf_model_without_stopwords.save(tfidf_model_file_without_stopwords)\n",
    "\n",
    "corpus_df['tf_idf_without_stopwords'] = tfidf_model_without_stopwords[corpus_df.bow_without_stopwords.tolist()]\n",
    "corpus_df.head(5)"
   ]
  },
  {
   "cell_type": "markdown",
   "metadata": {
    "colab_type": "text",
    "id": "yXj_9I_JitXw"
   },
   "source": [
    "**Actividad:** Genere recomendaciones para un nuevo usuario utilizando los nuevos vectores generados sin stop-words."
   ]
  },
  {
   "cell_type": "code",
   "execution_count": 0,
   "metadata": {
    "colab": {},
    "colab_type": "code",
    "id": "N6IAj7wii_OD"
   },
   "outputs": [],
   "source": []
  },
  {
   "cell_type": "markdown",
   "metadata": {
    "colab_type": "text",
    "id": "bxqEz_S0ensc"
   },
   "source": [
    "# Word Embeddings\n",
    "En esta sección haremos recomendacion de textos médicos de [PubMed](https://www.ncbi.nlm.nih.gov/pubmed/) que han sido revisados por expertos. \n",
    "\n",
    "RESPONDER LAS SIGUIENTES PREGUNTAS: \n",
    "- ¿Que son word embeddings? ¿Cuál es la intuición?\n",
    "- ¿Por qué son útiles para representar documentos?\n"
   ]
  },
  {
   "cell_type": "code",
   "execution_count": 0,
   "metadata": {
    "colab": {},
    "colab_type": "code",
    "id": "7vnYP9TQSdfV"
   },
   "outputs": [],
   "source": [
    "# Descarga de recursos\n",
    "!wget https://www.dropbox.com/s/gc3x9rp4gu2tmch/documents_w2vec.json.zip\n",
    "!unzip documents_w2vec.json.zip"
   ]
  },
  {
   "cell_type": "code",
   "execution_count": 0,
   "metadata": {
    "colab": {},
    "colab_type": "code",
    "id": "vmyJj4cbSdnP"
   },
   "outputs": [],
   "source": [
    "# Descarga del dataset\n",
    "!wget https://www.dropbox.com/s/1bxuw3uf3xwyrr7/pubmed_data.csv"
   ]
  },
  {
   "cell_type": "markdown",
   "metadata": {
    "colab_type": "text",
    "id": "7HY0AggcTvH0"
   },
   "source": [
    "Podemos ver que este _dataet: contiene 4 columnas:\n",
    "* **user_id**: identificador de cada usuario \n",
    "* **pid**: identificador de cada texto con su correlativo de PubMed. \n",
    "* **_title_**: título del documento, en este caso, de un _paper_\n",
    "* **_abstract_**: primer párafo del _paper_ que es una representación abreviada, objetiva y precisa del contenido de un documento o recurso."
   ]
  },
  {
   "cell_type": "code",
   "execution_count": 0,
   "metadata": {
    "colab": {},
    "colab_type": "code",
    "id": "0dKbIzvXTr-N"
   },
   "outputs": [],
   "source": [
    "df = pd.read_csv('pubmed_data.csv')\n",
    "df.head()"
   ]
  },
  {
   "cell_type": "code",
   "execution_count": 0,
   "metadata": {
    "colab": {},
    "colab_type": "code",
    "id": "dGXXyftCUAOt"
   },
   "outputs": [],
   "source": [
    "# creamos diccionario de titulos y abstracts que utilizaremos despues\n",
    "dict_title_abstract = {}\n",
    "\n",
    "for pid, title, abstract in zip(df.pid, df.title, df.abstract):\n",
    "  dict_title_abstract[pid] = {'title': title, 'abstract': abstract}"
   ]
  },
  {
   "cell_type": "code",
   "execution_count": 0,
   "metadata": {
    "colab": {},
    "colab_type": "code",
    "id": "lE0JMfF4Sd3a"
   },
   "outputs": [],
   "source": [
    "# cargamos diccionario de embeddings por cada documento (pre-procesado)\n",
    "w2vec_vectors = json.load(open('documents_w2vec.json'))\n"
   ]
  },
  {
   "cell_type": "markdown",
   "metadata": {
    "colab_type": "text",
    "id": "CqjurNgZVBHp"
   },
   "source": [
    "creamos un objeto *gensim.keyedvectors* para hacer más eficiente la búsqueda de documentos similares"
   ]
  },
  {
   "cell_type": "code",
   "execution_count": 0,
   "metadata": {
    "colab": {},
    "colab_type": "code",
    "id": "DhKPIiaCU-5m"
   },
   "outputs": [],
   "source": [
    "embedding_size = 300\n",
    "\n",
    "doc2vec = gensim.models.keyedvectors.Word2VecKeyedVectors(embedding_size)\n",
    "keys = list(w2vec_vectors.keys())\n",
    "values = [\n",
    "    w2vec_vectors[key]\n",
    "    for key in keys\n",
    "]\n",
    "doc2vec.add(keys, values)"
   ]
  },
  {
   "cell_type": "markdown",
   "metadata": {
    "colab_type": "text",
    "id": "74V5fvAfY3cQ"
   },
   "source": [
    "## Generar recomendaciones"
   ]
  },
  {
   "cell_type": "markdown",
   "metadata": {
    "colab_type": "text",
    "id": "kL7YfnQaUxge"
   },
   "source": [
    "función **find_similar** para encontrar documentos similares a un pid en particular que recibe id del documento y los topn documentos mas similares y retorna topn documentos más similares"
   ]
  },
  {
   "cell_type": "code",
   "execution_count": 0,
   "metadata": {
    "colab": {},
    "colab_type": "code",
    "id": "cYpU31trUG6b"
   },
   "outputs": [],
   "source": [
    "def find_similar(pid, topn):\n",
    "  results = []\n",
    "\n",
    "  for id_, score in doc2vec.similar_by_vector(doc2vec[pid], topn=topn):\n",
    "      results.append([id_, score, dict_title_abstract[int(id_)]['title'], dict_title_abstract[int(id_)]['abstract']])\n",
    "\n",
    "  return pd.DataFrame(results[1:], columns = ['pid', 'score', 'title', 'abstract'])"
   ]
  },
  {
   "cell_type": "code",
   "execution_count": 0,
   "metadata": {
    "colab": {},
    "colab_type": "code",
    "id": "5hdVsRKTUHCB"
   },
   "outputs": [],
   "source": [
    "find_similar('22508578', 10)"
   ]
  },
  {
   "cell_type": "markdown",
   "metadata": {
    "colab_type": "text",
    "id": "eqovwUr7VNMx"
   },
   "source": [
    "función **recommend** para recomendar a un usuario de acuerdo una muestra de documentos que ha leído."
   ]
  },
  {
   "cell_type": "code",
   "execution_count": 0,
   "metadata": {
    "colab": {},
    "colab_type": "code",
    "id": "gl5-3vZCUHHQ"
   },
   "outputs": [],
   "source": [
    "def recommend(user_id, topn, sample_user):\n",
    "  user_docs =  df[df.user_id==user_id]['pid'].sample(sample_user)\n",
    "\n",
    "  results = []\n",
    "\n",
    "  for pid in user_docs:\n",
    "\n",
    "    for id_, score in doc2vec.similar_by_vector(doc2vec[str(pid)], topn=topn):\n",
    "\n",
    "      if int(id_) in dict_title_abstract:\n",
    "        results.append([id_, score, dict_title_abstract[int(id_)]['title'], dict_title_abstract[int(id_)]['abstract']])\n",
    "    \n",
    "\n",
    "  results = sorted(results, key = lambda x: int(x[1]))\n",
    "\n",
    "  return pd.DataFrame(results[topn:], columns = ['pid', 'score', 'title', 'abstract']).head(10)"
   ]
  },
  {
   "cell_type": "code",
   "execution_count": 0,
   "metadata": {
    "colab": {},
    "colab_type": "code",
    "id": "FN1yayQPUHKv"
   },
   "outputs": [],
   "source": [
    "# documentos leidos por el usuario \n",
    "df[df.user_id==348892].sample(10)"
   ]
  },
  {
   "cell_type": "code",
   "execution_count": 0,
   "metadata": {
    "colab": {},
    "colab_type": "code",
    "id": "f3OgPussUHOj"
   },
   "outputs": [],
   "source": [
    "recommend(user_id= 348892, topn= 10, sample_user = 5)"
   ]
  },
  {
   "cell_type": "markdown",
   "metadata": {
    "colab_type": "text",
    "id": "kT9KuOZyVsBS"
   },
   "source": [
    "RESPONDER:\n",
    "- ¿Qué problemas puede tener la recomendación basada en contenido?"
   ]
  },
  {
   "cell_type": "code",
   "execution_count": 0,
   "metadata": {
    "colab": {},
    "colab_type": "code",
    "id": "udiRZZeyaino"
   },
   "outputs": [],
   "source": []
  }
 ],
 "metadata": {
  "colab": {
   "collapsed_sections": [],
   "name": "RecsysContentBased_2019.ipynb",
   "provenance": [],
   "version": "0.3.2"
  },
  "kernelspec": {
   "display_name": "Python 3",
   "language": "python",
   "name": "python3"
  },
  "language_info": {
   "codemirror_mode": {
    "name": "ipython",
    "version": 3
   },
   "file_extension": ".py",
   "mimetype": "text/x-python",
   "name": "python",
   "nbconvert_exporter": "python",
   "pygments_lexer": "ipython3",
   "version": "3.5.2"
  }
 },
 "nbformat": 4,
 "nbformat_minor": 1
}
